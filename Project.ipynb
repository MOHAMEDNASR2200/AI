{
 "cells": [
  {
   "cell_type": "code",
   "execution_count": null,
   "id": "0c37d9c8-d118-4bfc-8b06-eef17f609521",
   "metadata": {},
   "outputs": [
    {
     "data": {
      "text/plain": [
       "<seaborn.axisgrid.PairGrid at 0x22cb8b03aa0>"
      ]
     },
     "execution_count": 4,
     "metadata": {},
     "output_type": "execute_result"
    }
   ],
   "source": [
    "#JobTitle and OvertimePay\n",
    "#BasePay and OvertimePay\n",
    "#BasePay and OtherPay\n",
    "#JobTitle and TotalPay\n",
    "import seaborn as sns\n",
    "import numpy as np\n",
    "import pandas as pd\n",
    "import statistics as st \n",
    "import matplotlib.pyplot as plt\n",
    "A=pd.read_csv(r\"C:\\Users\\Sara\\Downloads\\Salaries.csv\")\n",
    "#Remove useless columns\n",
    "A.drop(['Notes', 'Status', 'Agency', 'Benefits', 'TotalPayBenefits','EmployeeName','Id'], axis=1, inplace=True)\n",
    "#Remove rows with no enough data provided\n",
    "D= A[(A[\"JobTitle\"]==\"Not provided\")].index\n",
    "D1=A[(A[\"BasePay\"]==0)&(A[\"OvertimePay\"]==0)&(A[\"TotalPay\"]==0)].index\n",
    "A.drop(D,inplace=True)\n",
    "A.drop(D1,inplace=True)\n",
    "#outliers\n",
    "def R(name):\n",
    "    q1 = np.quantile(list(A[name]), 0.25)\n",
    "    q3 = np.quantile(list(A[name]), 0.75)\n",
    "    med = np.median(list(A[name]))\n",
    "    iqr = q3-q1\n",
    "    upper_bound = q3+(1.5*iqr)\n",
    "    lower_bound = q1-(1.5*iqr)\n",
    "#standarize\n",
    "def stan(name):\n",
    "    M=st.mean(list(A[name]))\n",
    "    t=np.std(list(A[name]))\n",
    "    A[name]=(A[name]-M)/t\n",
    "lis=list(A.columns)\n",
    "for i in lis:\n",
    "    if i!=\"JobTitle\" and i!=\"Year\":\n",
    "        R(i)\n",
    "        stan(i)\n",
    "sns.pairplot(A)"
   ]
  },
  {
   "cell_type": "code",
   "execution_count": null,
   "id": "09f02129-75b7-4129-8946-06e914d11784",
   "metadata": {},
   "outputs": [],
   "source": []
  }
 ],
 "metadata": {
  "kernelspec": {
   "display_name": "Python 3 (ipykernel)",
   "language": "python",
   "name": "python3"
  },
  "language_info": {
   "codemirror_mode": {
    "name": "ipython",
    "version": 3
   },
   "file_extension": ".py",
   "mimetype": "text/x-python",
   "name": "python",
   "nbconvert_exporter": "python",
   "pygments_lexer": "ipython3",
   "version": "3.12.4"
  }
 },
 "nbformat": 4,
 "nbformat_minor": 5
}
