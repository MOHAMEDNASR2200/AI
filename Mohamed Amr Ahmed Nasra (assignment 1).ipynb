{
 "cells": [
  {
   "cell_type": "markdown",
   "id": "759d04ba",
   "metadata": {},
   "source": [
    "1-Write a Python program to calculate the length of a string using 2 ways"
   ]
  },
  {
   "cell_type": "code",
   "execution_count": 291,
   "id": "7a2dfa32",
   "metadata": {},
   "outputs": [
    {
     "name": "stdout",
     "output_type": "stream",
     "text": [
      "5\n",
      "5\n"
     ]
    }
   ],
   "source": [
    "#Method 1\n",
    "s=\"Ahmed\"\n",
    "print(len(s))\n",
    "#Method 2\n",
    "counter=0\n",
    "for i in s:\n",
    "    counter=counter+1\n",
    "print(counter)"
   ]
  },
  {
   "cell_type": "markdown",
   "id": "d7cc9da7",
   "metadata": {},
   "source": [
    "2-Write a Python program to get a string made of the first 2 and last 2 characters of a given string. If the string length is less than 2, return the empty string instead (\"##Sample String : 'w3resource' <br>\n",
    "Expected Result : 'w3ce' <br>\n",
    "##Sample String : 'w3'<br>\n",
    "Expected Result : 'w3w3'<br>\n",
    "##Sample String : ' w'<br>\n",
    "Expected Result : Empty String) "
   ]
  },
  {
   "cell_type": "code",
   "execution_count": 313,
   "id": "dafa9dd8",
   "metadata": {},
   "outputs": [
    {
     "name": "stdout",
     "output_type": "stream",
     "text": [
      "\n"
     ]
    }
   ],
   "source": [
    "s='w'\n",
    "s1=\"\"\n",
    "if len(s)<2:\n",
    "    print(s1)\n",
    "else:\n",
    "    s1=s[0:2]+s[(len(s)-2):len(s)]\n",
    "    print(s1)"
   ]
  },
  {
   "cell_type": "markdown",
   "id": "1534f956",
   "metadata": {},
   "source": [
    "3-Write a Python program to add 'ing' at the end of a given string (length should be at least 3). If the given string already ends with 'ing', add 'ly' instead. If the string length of the given string is less than 3, leave it unchanged. (Sample String : 'abc'\n",
    "Expected Result : 'abcing')"
   ]
  },
  {
   "cell_type": "code",
   "execution_count": 319,
   "id": "7ff8cec4",
   "metadata": {},
   "outputs": [
    {
     "name": "stdout",
     "output_type": "stream",
     "text": [
      "abcingly\n"
     ]
    }
   ],
   "source": [
    "s=\"abcing\"\n",
    "if len(s)<3:\n",
    "    print(s)\n",
    "else:\n",
    "    if s[(len(s)-3):len(s)]==\"ing\":\n",
    "        s=s+\"ly\"\n",
    "    else:\n",
    "        s=s+\"ing\"\n",
    "    print(s)"
   ]
  },
  {
   "cell_type": "markdown",
   "id": "1c0a6627",
   "metadata": {},
   "source": [
    "4-Write a Python function that takes a list of words and return the longest word and the length of the longest one\n",
    "(Longest word: Exercises\n",
    "Length of the longest word: 9)"
   ]
  },
  {
   "cell_type": "code",
   "execution_count": 321,
   "id": "397341d9",
   "metadata": {},
   "outputs": [
    {
     "name": "stdout",
     "output_type": "stream",
     "text": [
      "15\n",
      "kjaerhyvgiuwEgh\n"
     ]
    }
   ],
   "source": [
    "s=[\"mjcahfkjer\",\"kjaerhyvgiuwEgh\",\"jhsdrgvh\",\"mhsdfykjdf\"]\n",
    "l=[]\n",
    "for i in s:\n",
    "    l.append(len(i))\n",
    "print(max(l))\n",
    "print(s[l.index(max(l))])"
   ]
  },
  {
   "cell_type": "markdown",
   "id": "53a03a6a",
   "metadata": {},
   "source": [
    "5-Write a Python program to change a given string to a newly string where the first and last chars have been exchanged using 2 ways (Sample String:abca  Expected Result:ebce)"
   ]
  },
  {
   "cell_type": "code",
   "execution_count": 357,
   "id": "285788b4",
   "metadata": {},
   "outputs": [
    {
     "name": "stdout",
     "output_type": "stream",
     "text": [
      "ebce\n",
      "ebce\n"
     ]
    }
   ],
   "source": [
    "#Method 1\n",
    "s=\"abca\"\n",
    "l=[]\n",
    "for i in s:\n",
    "    l.append(i)\n",
    "l[0]=\"e\"\n",
    "l[-1]=\"e\"\n",
    "print(\"\".join(l))\n",
    "#Method 2\n",
    "s=s.replace(s[0],\"e\")\n",
    "s=s.replace(s[-1],\"e\")\n",
    "print(s)"
   ]
  },
  {
   "cell_type": "markdown",
   "id": "25f89808",
   "metadata": {},
   "source": [
    "6-Write a Python program to remove characters that have odd index values in a given string (Sample String:abca Expected Result:ac)"
   ]
  },
  {
   "cell_type": "code",
   "execution_count": 359,
   "id": "05959bd7",
   "metadata": {},
   "outputs": [
    {
     "name": "stdout",
     "output_type": "stream",
     "text": [
      "ac\n"
     ]
    }
   ],
   "source": [
    "s=\"abca\"\n",
    "c=\"\"\n",
    "for i in range(len(s)):\n",
    "    if i%2==0:\n",
    "        c=c+s[i]\n",
    "print(c)"
   ]
  },
  {
   "cell_type": "markdown",
   "id": "eb16e898",
   "metadata": {},
   "source": [
    "7-Write a Python program to count the occurrences of each word in a given sentence (Sample String:amr and ahmed are frindes but amr is the tallest Expected Result:2)"
   ]
  },
  {
   "cell_type": "code",
   "execution_count": 409,
   "id": "01ce6cf5",
   "metadata": {},
   "outputs": [
    {
     "name": "stdout",
     "output_type": "stream",
     "text": [
      "[['amr', 2], ['and', 1], ['ahmed', 1], ['are', 1], ['frindes', 1], ['but', 1], ['is', 1], ['the', 1], ['tallest', 1]]\n"
     ]
    }
   ],
   "source": [
    "s=\"amr and ahmed are frindes but amr is the tallest\"\n",
    "l=s.split(\" \")\n",
    "x=[]\n",
    "g=[]\n",
    "for i in l:\n",
    "   if i not in x:\n",
    "       x.append(i)\n",
    "       g.append([i,0])\n",
    "for j in l:\n",
    "    for n in g:\n",
    "        if n[0]==j:\n",
    "            count=n[1]+1\n",
    "            n[1]=count\n",
    "print(g)    "
   ]
  },
  {
   "cell_type": "markdown",
   "id": "4e8125f1",
   "metadata": {},
   "source": [
    "8-Write a Python script that takes input from the user and displays that input back in upper and lower cases"
   ]
  },
  {
   "cell_type": "code",
   "execution_count": 411,
   "id": "66c8f778",
   "metadata": {},
   "outputs": [
    {
     "name": "stdin",
     "output_type": "stream",
     "text": [
      "Enter:  Amr\n"
     ]
    },
    {
     "name": "stdout",
     "output_type": "stream",
     "text": [
      "Uppercase: AMR\n",
      "Lowercase: amr\n"
     ]
    }
   ],
   "source": [
    "s=input(\"Enter: \")\n",
    "upper_case=s.upper()\n",
    "lower_case=s.lower()\n",
    "print(\"Uppercase:\", upper_case)\n",
    "print(\"Lowercase:\", lower_case)\n"
   ]
  },
  {
   "cell_type": "markdown",
   "id": "fcd68aa1",
   "metadata": {},
   "source": [
    "9-Write a Python function to reverse a string if its length is a multiple of 4"
   ]
  },
  {
   "cell_type": "code",
   "execution_count": 437,
   "id": "0671a931",
   "metadata": {},
   "outputs": [
    {
     "name": "stdout",
     "output_type": "stream",
     "text": [
      "abcak\n"
     ]
    }
   ],
   "source": [
    "s=\"abcak\"\n",
    "l=[]\n",
    "counter=0\n",
    "for i in s:\n",
    "    l.append(i)\n",
    "    counter=counter+1\n",
    "if counter%4==0:\n",
    "    counter=counter-1\n",
    "    for k in range(int(len(l)/2)):\n",
    "        l[k],l[counter-k]=l[counter-k],l[k]\n",
    "l=\"\".join(l)\n",
    "print(l)"
   ]
  },
  {
   "cell_type": "markdown",
   "id": "b577c68d",
   "metadata": {},
   "source": [
    "10- Write a Python program to remove a newline in Python"
   ]
  },
  {
   "cell_type": "code",
   "execution_count": 441,
   "id": "e0c6525a",
   "metadata": {},
   "outputs": [
    {
     "name": "stdout",
     "output_type": "stream",
     "text": [
      "\n",
      "\n",
      "Hello World!\n",
      "Welcome to Python.\n",
      "\n",
      "\n",
      "Hello World!\n",
      "Welcome to Python.\n"
     ]
    }
   ],
   "source": [
    "def remov(text):\n",
    "    return text.strip()\n",
    "text= \"\\n\\nHello World!\\nWelcome to Python.\\n\\n\"\n",
    "cleaned_text = remov(text)\n",
    "print(text)\n",
    "print(cleaned_text)"
   ]
  },
  {
   "cell_type": "markdown",
   "id": "80db5ae0",
   "metadata": {},
   "source": [
    "11-Write a Python program to check whether a string starts with specified characters"
   ]
  },
  {
   "cell_type": "code",
   "execution_count": 445,
   "id": "0cc4e03e",
   "metadata": {},
   "outputs": [
    {
     "name": "stdin",
     "output_type": "stream",
     "text": [
      "Enter:  green\n",
      "Enter character:  b\n"
     ]
    },
    {
     "name": "stdout",
     "output_type": "stream",
     "text": [
      "No\n"
     ]
    }
   ],
   "source": [
    "text = input(\"Enter: \")\n",
    "prefix = input(\"Enter character: \")\n",
    "if text[0]==prefix:\n",
    "    print(\"Yes\")\n",
    "else:\n",
    "    print(\"No\")"
   ]
  },
  {
   "cell_type": "markdown",
   "id": "593a68db",
   "metadata": {},
   "source": [
    "12- Write a Python program to add prefix text to all of the lines in a string"
   ]
  },
  {
   "cell_type": "code",
   "execution_count": 447,
   "id": "d2e46ada",
   "metadata": {},
   "outputs": [
    {
     "name": "stdout",
     "output_type": "stream",
     "text": [
      "Text after adding prefix to each line:\n",
      "$Hello, world!\n",
      "$This is a sample text.\n",
      "$Python is great.\n"
     ]
    }
   ],
   "source": [
    "text = \"\"\"Hello, world!\n",
    "This is a sample text.\n",
    "Python is great.\"\"\"\n",
    "prefix=\"$\"\n",
    "lines = text.splitlines()\n",
    "prefixed_lines = [prefix + line for line in lines]\n",
    "result = \"\\n\".join(prefixed_lines)\n",
    "print(\"Text after adding prefix to each line:\")\n",
    "print(result)\n"
   ]
  },
  {
   "cell_type": "markdown",
   "id": "86fa1543",
   "metadata": {},
   "source": [
    "13-Write a Python program to print the following numbers up to 2 decimal places"
   ]
  },
  {
   "cell_type": "code",
   "execution_count": 453,
   "id": "cd4a9d89",
   "metadata": {},
   "outputs": [
    {
     "name": "stdout",
     "output_type": "stream",
     "text": [
      "3.14\n"
     ]
    }
   ],
   "source": [
    "num=3.14159\n",
    "print(round(num, 2))"
   ]
  },
  {
   "cell_type": "markdown",
   "id": "452c0ab0",
   "metadata": {},
   "source": [
    "14-Write a Python program to print the following numbers up to 2 decimal places with a sign"
   ]
  },
  {
   "cell_type": "code",
   "execution_count": 457,
   "id": "73e82479",
   "metadata": {},
   "outputs": [
    {
     "name": "stdout",
     "output_type": "stream",
     "text": [
      "3.14\n"
     ]
    }
   ],
   "source": [
    "num=-3.14159\n",
    "print(round(num, 2))"
   ]
  },
  {
   "cell_type": "markdown",
   "id": "32b1811a",
   "metadata": {},
   "source": [
    "15-Write a Python program to display a number with a comma separator"
   ]
  },
  {
   "cell_type": "code",
   "execution_count": 475,
   "id": "f30fc0b6",
   "metadata": {},
   "outputs": [
    {
     "name": "stdout",
     "output_type": "stream",
     "text": [
      "1,234,567\n"
     ]
    }
   ],
   "source": [
    "a=\"1234567\"\n",
    "a1=\"\"\n",
    "a2=\"\"\n",
    "counter=len(a)-1\n",
    "c=0\n",
    "for i in range(len(a)):\n",
    "    c=c+1\n",
    "    a1=a[counter-i]+a1\n",
    "    if c==3:\n",
    "        a2=\",\"+a1+a2\n",
    "        a1=\"\"\n",
    "        c=0\n",
    "a2=a1+a2\n",
    "print(a2)"
   ]
  },
  {
   "cell_type": "markdown",
   "id": "0477f487",
   "metadata": {},
   "source": [
    "16-Write a Python program to reverse a string using 2 ways"
   ]
  },
  {
   "cell_type": "code",
   "execution_count": 19,
   "id": "aa8beec8",
   "metadata": {},
   "outputs": [
    {
     "name": "stdout",
     "output_type": "stream",
     "text": [
      "buvhcgdf\n",
      "buvhcgdf\n"
     ]
    }
   ],
   "source": [
    "a=\"fdgchvub\"\n",
    "#Method 1\n",
    "l=[]\n",
    "for i in a:\n",
    "    l.append(i)\n",
    "t=len(l)-1\n",
    "for j in range(int(len(l)/2)):\n",
    "    l[j],l[t-j]=l[t-j],l[j]\n",
    "print(\"\".join(l))\n",
    "#Method 2\n",
    "g=[]\n",
    "for z in range(len(a)):\n",
    "    g.append(a[t-z])\n",
    "print(\"\".join(g))"
   ]
  },
  {
   "cell_type": "markdown",
   "id": "5afc3166",
   "metadata": {},
   "source": [
    " 17-Write a Python program to count repeated characters in a string (hint:use dictionary)"
   ]
  },
  {
   "cell_type": "code",
   "execution_count": 25,
   "id": "515a469c",
   "metadata": {},
   "outputs": [
    {
     "name": "stdout",
     "output_type": "stream",
     "text": [
      "[['a', 6], ['m', 3], ['r', 4], ['n', 2], ['d', 3], ['h', 2], ['e', 5], ['f', 1], ['i', 2], ['s', 3], ['b', 1], ['u', 1], ['t', 4], ['l', 2]]\n"
     ]
    }
   ],
   "source": [
    "s=\"amr and ahmed are frindes but amr is the tallest\"\n",
    "l=[]\n",
    "for i in s:\n",
    "    if i!=\" \": \n",
    "        l.append(i)\n",
    "x=[]\n",
    "g=[]\n",
    "for i in l:\n",
    "   if i not in x:\n",
    "       x.append(i)\n",
    "       g.append([i,0])\n",
    "for j in l:\n",
    "    for n in g:\n",
    "        if n[0]==j:\n",
    "            count=n[1]+1\n",
    "            n[1]=count\n",
    "print(g) "
   ]
  },
  {
   "cell_type": "markdown",
   "id": "ae14e4e5",
   "metadata": {},
   "source": [
    "18-Write a Python program to find the first non-repeating character in a given string"
   ]
  },
  {
   "cell_type": "code",
   "execution_count": 27,
   "id": "d73778e5",
   "metadata": {},
   "outputs": [
    {
     "name": "stdout",
     "output_type": "stream",
     "text": [
      "f\n"
     ]
    }
   ],
   "source": [
    "s=\"amr and ahmed are frindes but amr is the tallest\"\n",
    "l=[]\n",
    "for i in s:\n",
    "    if i!=\" \": \n",
    "        l.append(i)\n",
    "x=[]\n",
    "g=[]\n",
    "for i in l:\n",
    "   if i not in x:\n",
    "       x.append(i)\n",
    "       g.append([i,0])\n",
    "for j in l:\n",
    "    for n in g:\n",
    "        if n[0]==j:\n",
    "            count=n[1]+1\n",
    "            n[1]=count\n",
    "for i in g:\n",
    "    if i[1]==1:\n",
    "        print(i[0])\n",
    "        break"
   ]
  },
  {
   "cell_type": "markdown",
   "id": "3adf5669",
   "metadata": {},
   "source": [
    "19-Write a Python program to remove spaces from a given string"
   ]
  },
  {
   "cell_type": "code",
   "execution_count": 31,
   "id": "b4f22602",
   "metadata": {},
   "outputs": [
    {
     "name": "stdout",
     "output_type": "stream",
     "text": [
      "ulysvbsindFHCBJlDHVJDHVHSVH\n"
     ]
    }
   ],
   "source": [
    "a=\"ulysvbsin dFHCBJl DHVJ DHV HSVH\"\n",
    "l=[]\n",
    "for i in a:\n",
    "    if i!=\" \":\n",
    "        l.append(i)\n",
    "a=\"\".join(l)\n",
    "print(a)"
   ]
  },
  {
   "cell_type": "markdown",
   "id": "734de60c",
   "metadata": {},
   "source": [
    "20-Write a Python program to count the number of non-empty substrings of a given string"
   ]
  },
  {
   "cell_type": "code",
   "execution_count": 33,
   "id": "ef3f2274",
   "metadata": {},
   "outputs": [
    {
     "name": "stdout",
     "output_type": "stream",
     "text": [
      "3\n"
     ]
    }
   ],
   "source": [
    "l=[[6,7],[3,6,9],[],[],[],[],[],[0]]\n",
    "count=0\n",
    "for i in l:\n",
    "    if len(i)!=0:\n",
    "        count=count+1\n",
    "print(count)"
   ]
  },
  {
   "cell_type": "markdown",
   "id": "509998e2",
   "metadata": {},
   "source": [
    "21-write a Python program to swap first and last element of any list."
   ]
  },
  {
   "cell_type": "code",
   "execution_count": 35,
   "id": "68692d7f",
   "metadata": {},
   "outputs": [
    {
     "name": "stdout",
     "output_type": "stream",
     "text": [
      "[100, 4, 5, 6, 7, 12, 8, 9, 2]\n"
     ]
    }
   ],
   "source": [
    "l=[2,4,5,6,7,12,8,9,100]\n",
    "l[0],l[len(l)-1]=l[len(l)-1],l[0]\n",
    "print(l)"
   ]
  },
  {
   "cell_type": "markdown",
   "id": "959e0837",
   "metadata": {},
   "source": [
    "22-Given a list in Python and provided the positions of the elements,\n",
    "<br>write a program to swap the two elements in the list.<br>\n",
    "(Input : List = [23, 65, 19, 90], pos1 = 1, pos2 = 3 <br>\n",
    "Output : [19, 65, 23, 90])"
   ]
  },
  {
   "cell_type": "code",
   "execution_count": 37,
   "id": "225d8c6d",
   "metadata": {},
   "outputs": [
    {
     "name": "stdin",
     "output_type": "stream",
     "text": [
      "Enter first index:  1\n",
      "Enter second index:  12\n"
     ]
    },
    {
     "name": "stdout",
     "output_type": "stream",
     "text": [
      "[1, 13, 3, 4, 5, 6, 7, 8, 9, 0, 0, 12, 2, 14, 157, 17, 38, 49879, 21]\n"
     ]
    }
   ],
   "source": [
    "pos1=int(input(\"Enter first index: \"))\n",
    "pos2=int(input(\"Enter second index: \"))\n",
    "l=[1,2,3,4,5,6,7,8,9,0,0,12,13,14,157,17,38,49879,21]\n",
    "l[pos1],l[pos2]=l[pos2],l[pos1]\n",
    "print(l)"
   ]
  },
  {
   "cell_type": "markdown",
   "id": "66fc6682",
   "metadata": {},
   "source": [
    "23- search for the all ways to know the length of the list"
   ]
  },
  {
   "cell_type": "code",
   "execution_count": 39,
   "id": "0ce2ab11-e694-4ef4-886e-781f5c6857d1",
   "metadata": {},
   "outputs": [
    {
     "name": "stdout",
     "output_type": "stream",
     "text": [
      "19\n",
      "19\n"
     ]
    }
   ],
   "source": [
    "l=[1, 13, 3, 4, 5, 6, 7, 8, 9, 0, 0, 12, 2, 14, 157, 17, 38, 49879, 21]\n",
    "#Method 1\n",
    "print(len(l))\n",
    "#Method 2\n",
    "count=0\n",
    "for i in l:\n",
    "    count=count+1\n",
    "print(count)"
   ]
  },
  {
   "cell_type": "markdown",
   "id": "635e76c5-7b68-4e02-972d-7d9eae99b598",
   "metadata": {},
   "source": [
    "24-write a Python code to find the Maximum number of list of numbers."
   ]
  },
  {
   "cell_type": "code",
   "execution_count": 77,
   "id": "15f342de",
   "metadata": {},
   "outputs": [
    {
     "name": "stdout",
     "output_type": "stream",
     "text": [
      "49879\n"
     ]
    }
   ],
   "source": [
    "l=[1, 13, 3, 4, 5, 6, 7, 8, 9, 0, 0, 12, 2, 14, 157, 17, 38, 49879, 21]\n",
    "m=-10*(10**20)\n",
    "for i in l:\n",
    "    if i>m:\n",
    "        m=i\n",
    "print(m)"
   ]
  },
  {
   "cell_type": "markdown",
   "id": "af36b71c-3de0-42e0-b49a-fc06cfc62068",
   "metadata": {},
   "source": [
    "25-write a Python code to find the Minimum number of list of numbers."
   ]
  },
  {
   "cell_type": "code",
   "execution_count": 47,
   "id": "21f8cbd6",
   "metadata": {},
   "outputs": [
    {
     "name": "stdout",
     "output_type": "stream",
     "text": [
      "0\n"
     ]
    }
   ],
   "source": [
    "l=[1, 13, 3, 4, 5, 6, 7, 8, 9, 0, 0, 12, 2, 14, 157, 17, 38, 49879, 21]\n",
    "m=10*(10**20)\n",
    "for i in l:\n",
    "    if i<m:\n",
    "        m=i\n",
    "print(m)"
   ]
  },
  {
   "cell_type": "markdown",
   "id": "96822d96",
   "metadata": {},
   "source": [
    "**26-search for if an elem is existing in list"
   ]
  },
  {
   "cell_type": "code",
   "execution_count": 51,
   "id": "51ca5c9a",
   "metadata": {},
   "outputs": [
    {
     "name": "stdin",
     "output_type": "stream",
     "text": [
      "Enter value to search:  23456789\n"
     ]
    },
    {
     "name": "stdout",
     "output_type": "stream",
     "text": [
      "False\n"
     ]
    }
   ],
   "source": [
    "l=[1, 13, 3, 4, 5, 6, 7, 8, 9, 0, 0, 12, 2, 14, 157, 17, 38, 49879, 21]\n",
    "item=int(input(\"Enter value to search: \"))\n",
    "flag=False\n",
    "for i in l:\n",
    "    if i==item:\n",
    "        flag=True\n",
    "        break\n",
    "print(flag)"
   ]
  },
  {
   "cell_type": "markdown",
   "id": "d9557da7",
   "metadata": {},
   "source": [
    "**27- clear python list using different ways"
   ]
  },
  {
   "cell_type": "code",
   "execution_count": 67,
   "id": "b69858a3",
   "metadata": {},
   "outputs": [
    {
     "name": "stdout",
     "output_type": "stream",
     "text": [
      "[]\n",
      "[]\n",
      "[]\n"
     ]
    }
   ],
   "source": [
    "l=[1, 13, 3, 4, 5, 6, 7, 8, 9, 0, 0, 12, 2, 14, 157, 17, 38, 49879, 21]\n",
    "#Method 1\n",
    "l=[]\n",
    "print(l)\n",
    "#Method 2\n",
    "l1=[1, 13, 3, 4, 5, 6, 7, 8, 9, 0, 0, 12, 2, 14, 157, 17, 38, 49879, 21]\n",
    "t=len(l1)\n",
    "for i in range(t):\n",
    "    l1.pop()\n",
    "print(l1)\n",
    "#Method 3\n",
    "l2=[1, 13, 3, 4, 5, 6, 7, 8, 9, 0, 0, 12, 2, 14, 157, 17, 38, 49879, 21]\n",
    "l2.clear()\n",
    "print(l2)"
   ]
  },
  {
   "cell_type": "markdown",
   "id": "52160e88",
   "metadata": {},
   "source": [
    "**28-remove duplicated elements from a list"
   ]
  },
  {
   "cell_type": "code",
   "execution_count": 69,
   "id": "5e362228",
   "metadata": {},
   "outputs": [
    {
     "name": "stdout",
     "output_type": "stream",
     "text": [
      "[1, 13, 3, 4, 5, 6, 7, 8, 9, 0, 12, 2, 14, 157, 17, 38, 49879, 21, 45, 74, 32]\n"
     ]
    }
   ],
   "source": [
    "l=[1, 13, 3, 4, 5, 6, 7, 8, 9, 0, 0, 12, 2, 14, 157, 17, 38, 49879, 21,1,45,74,32,14]\n",
    "U=[]\n",
    "for i in l:\n",
    "    if i not in U:\n",
    "        U.append(i)\n",
    "l=U\n",
    "print(l)"
   ]
  },
  {
   "cell_type": "markdown",
   "id": "282337f7",
   "metadata": {},
   "source": [
    "**29-Given list values and keys list, convert these values to key value pairs in form of list of dictionaries.<br>\n",
    "(Input : test_list = [“Gfg”, 3, “is”, 8], key_list = [“name”, “id”]<br>\n",
    "Output : [{‘name’: ‘Gfg’, ‘id’: 3}, {‘name’: ‘is’, ‘id’: 8}])"
   ]
  },
  {
   "cell_type": "code",
   "execution_count": 75,
   "id": "4d4e2d28",
   "metadata": {},
   "outputs": [
    {
     "name": "stdout",
     "output_type": "stream",
     "text": [
      "[{'name': 'Gfg', 'id': 3}, {'name': 'is', 'id': 8}]\n"
     ]
    }
   ],
   "source": [
    "test=[\"Gfg\", 3, \"is\", 8]\n",
    "key=[\"name\", \"id\"]\n",
    "l=[]\n",
    "count=0\n",
    "d={}\n",
    "for i in test:\n",
    "    if count==2:\n",
    "        l.append(d)\n",
    "        d={}\n",
    "        count=0\n",
    "    d[key[count]]=i\n",
    "    count=count+1\n",
    "l.append(d)\n",
    "print(l)"
   ]
  },
  {
   "cell_type": "markdown",
   "id": "c26b6e9f",
   "metadata": {},
   "source": [
    "**30-write a python program to count unique values inside a list using different ways"
   ]
  },
  {
   "cell_type": "code",
   "execution_count": 15,
   "id": "72132667",
   "metadata": {},
   "outputs": [
    {
     "name": "stdout",
     "output_type": "stream",
     "text": [
      "[0, 1, 2, 3, 4, 5, 6, 7, 8, 9, 10, 15, 24, 28, 43, 47, 74, 90, 95]\n",
      "[0, 1, 2, 3, 4, 5, 6, 7, 8, 9, 10, 15, 24, 28, 43, 47, 74, 90, 95]\n",
      "[0, 1, 2, 3, 4, 5, 6, 7, 8, 9, 10, 15, 24, 28, 43, 47, 74, 90, 95]\n"
     ]
    }
   ],
   "source": [
    "lis1=[0,1,2,3,4,5,6,7,8,9,5,8,3,9,10,47,28,43,24,95,24,95,15,74,24,90]\n",
    "#Method 1\n",
    "print(list(set(lis1)))\n",
    "#Method 2\n",
    "lis2=[]\n",
    "for i in lis1:\n",
    "    if i not in lis2:\n",
    "        lis2.append(i)\n",
    "print(sorted(lis2))\n",
    "#Method 3\n",
    "import numpy as np\n",
    "print(list(np.unique(lis1)))"
   ]
  },
  {
   "cell_type": "markdown",
   "id": "fed6677c",
   "metadata": {},
   "source": [
    "**31-write a python program Extract all elements with Frequency greater than K (Input : test_list = [4, 6, 4, 3, 3, 4, 3, 4, 3, 8], K = 3 \n",
    "Output : [4, 3] )"
   ]
  },
  {
   "cell_type": "code",
   "execution_count": 59,
   "id": "d81f3f9d",
   "metadata": {},
   "outputs": [
    {
     "name": "stdin",
     "output_type": "stream",
     "text": [
      "Enter: 3\n"
     ]
    },
    {
     "name": "stdout",
     "output_type": "stream",
     "text": [
      "[4, 6, 3, 8]\n",
      "[4, 1, 4, 1]\n",
      "4\n",
      "3\n"
     ]
    }
   ],
   "source": [
    "k=int(input(\"Enter:\"))\n",
    "lis=[4, 6, 4, 3, 3, 4, 3, 4, 3, 8]\n",
    "lis1=[]\n",
    "lis2=[]\n",
    "for i in lis:\n",
    "    if i not in lis1:\n",
    "        lis1.append(i)\n",
    "        lis2.append(0)\n",
    "for j in lis:\n",
    "    lis2[lis1.index(j)]=lis2[lis1.index(j)]+1\n",
    "print(lis1)\n",
    "print(lis2)\n",
    "location=0\n",
    "for z in lis2:\n",
    "    if z>k:\n",
    "        print(lis1[location])\n",
    "    location=location+1"
   ]
  },
  {
   "cell_type": "markdown",
   "id": "caca5224",
   "metadata": {},
   "source": [
    "**32-write a python program to find the Strongest Neighbour (Input: 1 2 2 3 4 5\n",
    "Output: 2 2 3 4 5)"
   ]
  },
  {
   "cell_type": "code",
   "execution_count": 61,
   "id": "39fbd9b2",
   "metadata": {},
   "outputs": [
    {
     "name": "stdout",
     "output_type": "stream",
     "text": [
      "2\n",
      "2\n",
      "3\n",
      "4\n",
      "5\n"
     ]
    }
   ],
   "source": [
    "lis=[1,2,2,3,4,5]\n",
    "for i in range((len(lis)-1)):\n",
    "    if i==0:\n",
    "        print(lis[i+1])\n",
    "    else:\n",
    "        left=i-1\n",
    "        right=i+1\n",
    "        if lis[left]>lis[right]:\n",
    "            print(lis[left])\n",
    "        else:\n",
    "            print(lis[right])"
   ]
  },
  {
   "cell_type": "markdown",
   "id": "a9fa8baf",
   "metadata": {},
   "source": [
    "**33-write a Python Program to print all Possible Combinations from the three Digits (Input: [1, 2, 3]\n",
    "Output:\n",
    "1 2 3 ##\n",
    "1 3 2 ##\n",
    "2 1 3 ##\n",
    "2 3 1 ##\n",
    "3 1 2 ##\n",
    "3 2 1)"
   ]
  },
  {
   "cell_type": "code",
   "execution_count": 71,
   "id": "8c520a76",
   "metadata": {},
   "outputs": [
    {
     "name": "stdout",
     "output_type": "stream",
     "text": [
      "[1, 2, 3]\n",
      "[1, 3, 2]\n",
      "[2, 1, 3]\n",
      "[2, 3, 1]\n",
      "[3, 1, 2]\n",
      "[3, 2, 1]\n"
     ]
    }
   ],
   "source": [
    "lis=[1,2,3]\n",
    "for i in lis:\n",
    "    for j in lis:\n",
    "        if j!=i:\n",
    "            lis1=[]\n",
    "            lis1.append(i)\n",
    "            lis1.append(j)\n",
    "            for z in lis:\n",
    "                if z!=j and z!=i:\n",
    "                    lis1.append(z)\n",
    "            print(lis1)"
   ]
  },
  {
   "cell_type": "markdown",
   "id": "5288bb89",
   "metadata": {},
   "source": [
    "**34-write a Python program to find all the Combinations in the list with the given condition (Input: test_list = [1,2,3] \n",
    "Output: \n",
    " [1], [1, 2], [1, 2, 3], [1, 3]\n",
    " [2], [2, 3], [3])"
   ]
  },
  {
   "cell_type": "code",
   "execution_count": 119,
   "id": "59b89646",
   "metadata": {},
   "outputs": [
    {
     "name": "stdout",
     "output_type": "stream",
     "text": [
      "[1]\n",
      "[1, 2]\n",
      "[1, 2, 3]\n",
      "[1, 3]\n",
      "[2]\n",
      "[2, 3]\n",
      "[2, 3]\n",
      "[3]\n",
      "[3]\n"
     ]
    }
   ],
   "source": [
    "lis=[1,2,3]\n",
    "start=0\n",
    "for i in lis:\n",
    "    lis1=[]\n",
    "    lis1.append(i)\n",
    "    print(lis1)\n",
    "    for j in range(start,(len(lis))):\n",
    "        if lis[j]!=i:\n",
    "            lis1.append(lis[j])\n",
    "            print(lis1)\n",
    "    if len(lis1)==3:\n",
    "        lis1.remove(lis[j-1])\n",
    "    print(lis1)\n",
    "    start=start+1"
   ]
  },
  {
   "cell_type": "markdown",
   "id": "39973705",
   "metadata": {},
   "source": [
    "**35-write a Python program to get all unique combinations of two Lists (List_1 = [\"a\",\"b\"]\n",
    "List_2 = [1,2]\n",
    "Unique_combination = [[('a',1),('b',2)],[('a',2),('b',1)]] )"
   ]
  },
  {
   "cell_type": "code",
   "execution_count": 123,
   "id": "8c4ba22b",
   "metadata": {},
   "outputs": [
    {
     "name": "stdout",
     "output_type": "stream",
     "text": [
      "[['a', 1], ['a', 2], ['b', 1], ['b', 2]]\n"
     ]
    }
   ],
   "source": [
    "List_1 = [\"a\",\"b\"] \n",
    "List_2 = [1,2]\n",
    "big=[]\n",
    "for i in List_1:\n",
    "    lis=[]\n",
    "    lis.append(i)\n",
    "    for j in List_2:\n",
    "        big.append([i,j])\n",
    "print(big)"
   ]
  },
  {
   "cell_type": "markdown",
   "id": "25199af5",
   "metadata": {},
   "source": [
    "**36-Remove all the occurrences of an element from a list in Python (Input : 1 1 2 3 4 5 1 2 1 \n",
    "\n",
    "**Output : 2 3 4 5 2)"
   ]
  },
  {
   "cell_type": "code",
   "execution_count": 137,
   "id": "6dc4c2ba",
   "metadata": {},
   "outputs": [
    {
     "name": "stdin",
     "output_type": "stream",
     "text": [
      "Enter:  1\n"
     ]
    },
    {
     "name": "stdout",
     "output_type": "stream",
     "text": [
      "[2, 3, 4, 5, 2]\n"
     ]
    }
   ],
   "source": [
    "lis=[1,1,2,3,4,5,1,2,1]\n",
    "k=int(input(\"Enter: \"))\n",
    "lis1=[]\n",
    "for i in lis:\n",
    "    if i!=k:\n",
    "        lis1.append(i)\n",
    "print(lis1)"
   ]
  },
  {
   "cell_type": "markdown",
   "id": "bf1a3c93",
   "metadata": {},
   "source": [
    "**37-write a python program to Replace index elements with elements in Other List <br>\n",
    "(The original list 1 is : [‘Gfg’, ‘is’, ‘best’]<br> \n",
    "The original list 2 is : [0, 1, 2, 1, 0, 0, 0, 2, 1, 1, 2, 0] <br>\n",
    "The lists after index elements replacements is : [‘Gfg’, ‘is’, ‘best’, ‘is’, ‘Gfg’, ‘Gfg’, ‘Gfg’, ‘best’, ‘is’, ‘is’, ‘best’, ‘Gfg’])"
   ]
  },
  {
   "cell_type": "code",
   "execution_count": 141,
   "id": "e3ab6802-d0c3-41ea-aa81-ce4023808f0c",
   "metadata": {},
   "outputs": [
    {
     "name": "stdout",
     "output_type": "stream",
     "text": [
      "['Gfg', 'is', 'best', 'is', 'Gfg', 'Gfg', 'Gfg', 'best', 'is', 'is', 'best', 'Gfg']\n"
     ]
    }
   ],
   "source": [
    "l1=[\"Gfg\", \"is\", \"best\"]\n",
    "l2= [0, 1, 2, 1, 0, 0, 0, 2, 1, 1, 2, 0]\n",
    "l3=[]\n",
    "for i in l2:\n",
    "    l3.append(l1[i])\n",
    "print(l3)"
   ]
  },
  {
   "cell_type": "code",
   "execution_count": 149,
   "id": "fdd66a71",
   "metadata": {},
   "outputs": [
    {
     "name": "stdin",
     "output_type": "stream",
     "text": [
      "Enter k:  5\n",
      "Enter n:  2\n"
     ]
    },
    {
     "name": "stdout",
     "output_type": "stream",
     "text": [
      "[4, 5, 5, 4]\n"
     ]
    }
   ],
   "source": [
    "lis=[[4, 5, 5, 4], [5, 4, 3]]\n",
    "k=int(input(\"Enter k: \"))\n",
    "n=int(input(\"Enter n: \"))\n",
    "for i in lis:\n",
    "    counter=0\n",
    "    for j in i:\n",
    "        if j==k:\n",
    "            counter=counter+1\n",
    "    if counter==n:\n",
    "        print(i)"
   ]
  },
  {
   "cell_type": "markdown",
   "id": "af0f56e8",
   "metadata": {},
   "source": [
    "**38- write python program to Retain records with N occurrences of K(Input : test_list = [(4, 5, 5, 4), (5, 4, 3)], K = 5, N = 2 <br>\n",
    "Output : [(4, 5, 5, 4)] <br>\n",
    "Input : test_list = [(4, 5, 5, 4), (5, 4, 3)], K = 5, N = 3 <br>\n",
    "Output : [] )"
   ]
  },
  {
   "cell_type": "code",
   "execution_count": 151,
   "id": "5b378aef-36e8-4a02-b14b-1197ffbd7df0",
   "metadata": {},
   "outputs": [
    {
     "name": "stdin",
     "output_type": "stream",
     "text": [
      "Enter k:  5\n",
      "Enter n:  3\n"
     ]
    }
   ],
   "source": [
    "lis=[[4, 5, 5, 4], [5, 4, 3]]\n",
    "k=int(input(\"Enter k: \"))\n",
    "n=int(input(\"Enter n: \"))\n",
    "for i in lis:\n",
    "    counter=0\n",
    "    for j in i:\n",
    "        if j==k:\n",
    "            counter=counter+1\n",
    "    if counter==n:\n",
    "        print(i)"
   ]
  },
  {
   "cell_type": "code",
   "execution_count": 163,
   "id": "67b06671",
   "metadata": {},
   "outputs": [
    {
     "name": "stdout",
     "output_type": "stream",
     "text": [
      "[[1, 3, 3], [2, 1, 2], [3, 2, 1]]\n",
      "[[2, 1, 2], [3, 2, 1], [1, 3, 3]]\n",
      "[[3, 2, 1], [2, 1, 2], [1, 3, 3]]\n"
     ]
    }
   ],
   "source": [
    "array = [[1, 3, 3], [2, 1, 2], [3, 2, 1]]\n",
    "start=0\n",
    "for i in range(len(array)):\n",
    "    lis=[]\n",
    "    lis.append(array[i])\n",
    "    for j in range(len(array)):\n",
    "        if start!=0:\n",
    "            j=j-start\n",
    "        if array[j]!=array[i]:\n",
    "            lis.append(array[j])\n",
    "    print(lis)\n",
    "    start=start+1"
   ]
  },
  {
   "cell_type": "markdown",
   "id": "de76f183",
   "metadata": {},
   "source": [
    "**39-write a Python Program to Sort the list according to the column using lambda<br>\n",
    "array = [[1, 3, 3], [2, 1, 2], [3, 2, 1]]<br>\n",
    "Output :<br>\n",
    "Sorted array specific to column 0, [[1, 3, 3], [2, 1, 2], [3, 2, 1]]<br>\n",
    "Sorted array specific to column 1, [[2, 1, 2], [3, 2, 1], [1, 3, 3]]<br>\n",
    "Sorted array specific to column 2, [[3, 2, 1], [2, 1, 2], [1, 3, 3]]"
   ]
  },
  {
   "cell_type": "code",
   "execution_count": null,
   "id": "86e2ec37-1c78-47cb-b57f-3a9ddc7c553e",
   "metadata": {},
   "outputs": [],
   "source": []
  },
  {
   "cell_type": "code",
   "execution_count": 183,
   "id": "dc883308",
   "metadata": {},
   "outputs": [
    {
     "name": "stdout",
     "output_type": "stream",
     "text": [
      "{'suraj': 32, 'sanjeev': 15, 'ravi': 10, 'rajnish': 9, 'yash': 2}\n"
     ]
    }
   ],
   "source": [
    "D={'ravi': 10, 'rajnish': 9, 'sanjeev': 15, 'yash': 2, 'suraj': 32}\n",
    "D1={}\n",
    "l=[]\n",
    "for i in D:\n",
    "    l.append(D[i])\n",
    "    l1=sorted(l,reverse=True)\n",
    "for i in range(len(D)):\n",
    "    for j in D:\n",
    "        if l1[i]==D[j]:\n",
    "            D1[j]=l1[i]\n",
    "            break\n",
    "print(D1)"
   ]
  },
  {
   "cell_type": "markdown",
   "id": "cc17bbe5-03d1-4204-a6f5-75665af9bc72",
   "metadata": {},
   "source": [
    "**40- write a program to Sort Python Dictionaries by Key or Value <br>\n",
    "Input: <br>\n",
    "{'ravi': 10, 'rajnish': 9, 'sanjeev': 15, 'yash': 2, 'suraj': 32}\n",
    "<br>\n",
    "Output: <br>\n",
    "{'rajnish': 9, 'ravi': 10, 'sanjeev': 15, 'suraj': 32, 'yash': 2}"
   ]
  },
  {
   "cell_type": "code",
   "execution_count": 209,
   "id": "a96db4a0",
   "metadata": {},
   "outputs": [
    {
     "name": "stdin",
     "output_type": "stream",
     "text": [
      "Enter:  7\n"
     ]
    },
    {
     "name": "stdout",
     "output_type": "stream",
     "text": [
      "{'Gfg': 3, 'is': 7, 'for': 6, 'geeks': 'CS'}\n"
     ]
    }
   ],
   "source": [
    "dict = {\"Gfg\" : 3, \"is\" : 7, \"best\" : 10, \"for\" : 6, \"geeks\" : \"CS\"}\n",
    "k=int(input(\"Enter: \"))\n",
    "l=[]\n",
    "D={}\n",
    "for i in dict:\n",
    "    if isinstance(dict[i], int):\n",
    "        if dict[i]>k:\n",
    "            l.append(int(dict[i]))\n",
    "for j in dict:\n",
    "    if dict[j] not in l:\n",
    "        D[j]=dict[j]\n",
    "print(D)"
   ]
  },
  {
   "cell_type": "markdown",
   "id": "ec63c23a",
   "metadata": {},
   "source": [
    "**41-write python program to Remove keys with Values Greater than K ( Including mixed values ) <br>\n",
    "input : test_dict = {‘Gfg’ : 3, ‘is’ : 7, ‘best’ : 10, ‘for’ : 6, ‘geeks’ : ‘CS’},\n",
    "K = 7 <br>\n",
    "Output : {‘Gfg’ : 3, ‘for’ : 6, ‘geeks’ : ‘CS’}"
   ]
  },
  {
   "cell_type": "code",
   "execution_count": 213,
   "id": "e39c3a40",
   "metadata": {},
   "outputs": [
    {
     "name": "stdout",
     "output_type": "stream",
     "text": [
      "{1: 10, 2: 20, 3: 30, 4: 40, 5: 50, 6: 60}\n"
     ]
    }
   ],
   "source": [
    "dic1={1:10, 2:20} \n",
    "dic2={3:30, 4:40} \n",
    "dic3={5:50,6:60}\n",
    "l=[dic1,dic2,dic3]\n",
    "D={}\n",
    "for i in l:\n",
    "    for j in i:\n",
    "        D[j]=i[j]\n",
    "print(D)"
   ]
  },
  {
   "cell_type": "markdown",
   "id": "f143f0fe",
   "metadata": {},
   "source": [
    "**42-Write a Python program to concatenate the following dictionaries to create a new one\n",
    "\n",
    "Sample Dictionary :\n",
    "dic1={1:10, 2:20}\n",
    "dic2={3:30, 4:40}\n",
    "dic3={5:50,6:60}\n",
    "Expected Result : {1: 10, 2: 20, 3: 30, 4: 40, 5: 50, 6: 60}"
   ]
  },
  {
   "cell_type": "code",
   "execution_count": null,
   "id": "74ffdfea",
   "metadata": {},
   "outputs": [],
   "source": []
  },
  {
   "cell_type": "markdown",
   "id": "fb04c93c",
   "metadata": {},
   "source": [
    "**43-Write a Python program to iterate over dictionaries using for loops"
   ]
  },
  {
   "cell_type": "code",
   "execution_count": null,
   "id": "6aebc470",
   "metadata": {},
   "outputs": [],
   "source": [
    "dic1={1:10, 2:20} \n",
    "dic2={3:30, 4:40} \n",
    "dic3={5:50,6:60}\n",
    "l=[dic1,dic2,dic3]\n",
    "D={}\n",
    "for i in l:\n",
    "    for j in i:\n",
    "        D[j]=i[j]\n",
    "print(D)"
   ]
  },
  {
   "cell_type": "markdown",
   "id": "5f491a9d",
   "metadata": {},
   "source": [
    "**44- Write a Python script to merge two Python dictionaries"
   ]
  },
  {
   "cell_type": "code",
   "execution_count": null,
   "id": "b8a14028",
   "metadata": {},
   "outputs": [],
   "source": [
    "dic1={1:10, 2:20} \n",
    "dic2={3:30, 4:40}\n",
    "l=[dic1,dic2]\n",
    "D={}\n",
    "for i in l:\n",
    "    for j in i:\n",
    "        D[j]=i[j]\n",
    "print(D)"
   ]
  },
  {
   "cell_type": "markdown",
   "id": "216fc72d",
   "metadata": {},
   "source": [
    "**45-Write a Python program to get the maximum and minimum values of a dictionary values"
   ]
  },
  {
   "cell_type": "code",
   "execution_count": 215,
   "id": "d6883f5f",
   "metadata": {},
   "outputs": [
    {
     "name": "stdout",
     "output_type": "stream",
     "text": [
      "60\n",
      "10\n"
     ]
    }
   ],
   "source": [
    "dic1={1: 10, 2: 20, 3: 30, 4: 40, 5: 50, 6: 60} \n",
    "l=[]\n",
    "for i in dic1:\n",
    "    l.append(dic1[i])\n",
    "print(max(l))\n",
    "print(min(l))"
   ]
  },
  {
   "cell_type": "markdown",
   "id": "b6a53011",
   "metadata": {},
   "source": [
    "**46- Write a Python program to drop empty items from a given dictionary.<br>\n",
    "Original Dictionary:<br>\n",
    "{'c1': 'Red', 'c2': 'Green', 'c3': None}<br>\n",
    "New Dictionary after dropping empty items:<br>\n",
    "{'c1': 'Red', 'c2': 'Green'}"
   ]
  },
  {
   "cell_type": "code",
   "execution_count": 217,
   "id": "b5c6fecf",
   "metadata": {},
   "outputs": [
    {
     "name": "stdout",
     "output_type": "stream",
     "text": [
      "{'c1': 'Red', 'c2': 'Green'}\n"
     ]
    }
   ],
   "source": [
    "D={'c1': 'Red', 'c2': 'Green', 'c3': None}\n",
    "D1={}\n",
    "for i in D:\n",
    "    if D[i]!=None:\n",
    "        D1[i]=D[i]\n",
    "print(D1)"
   ]
  },
  {
   "cell_type": "markdown",
   "id": "46d718c7",
   "metadata": {},
   "source": [
    "**47-Write a Python program to create a tuple of numbers and print one item"
   ]
  },
  {
   "cell_type": "code",
   "execution_count": 219,
   "id": "13216ff5",
   "metadata": {},
   "outputs": [
    {
     "name": "stdout",
     "output_type": "stream",
     "text": [
      "20\n"
     ]
    }
   ],
   "source": [
    "tuple = (10, 20, 30, 40, 50)\n",
    "print(tuple[1])  "
   ]
  },
  {
   "cell_type": "markdown",
   "id": "2be5b56b",
   "metadata": {},
   "source": [
    "**48-Write a Python program to unpack a tuple into several variables"
   ]
  },
  {
   "cell_type": "code",
   "execution_count": 221,
   "id": "595f44be",
   "metadata": {},
   "outputs": [
    {
     "name": "stdout",
     "output_type": "stream",
     "text": [
      "10\n",
      "20\n",
      "30\n",
      "40\n",
      "50\n"
     ]
    }
   ],
   "source": [
    "tuple = (10, 20, 30, 40, 50)\n",
    "for i in tuple:\n",
    "    print(i)"
   ]
  },
  {
   "cell_type": "markdown",
   "id": "392388a7",
   "metadata": {},
   "source": [
    "**49-Write a Python program to add an item to a tuple"
   ]
  },
  {
   "cell_type": "code",
   "execution_count": 251,
   "id": "54cc092e",
   "metadata": {},
   "outputs": [
    {
     "name": "stdout",
     "output_type": "stream",
     "text": [
      "(10, 20, 30, 40, 50, 60)\n"
     ]
    }
   ],
   "source": [
    "t = (10, 20, 30, 40, 50)\n",
    "l=list(t)\n",
    "l.append(60)\n",
    "def convert(list):\n",
    "    return (*list, )\n",
    "print(convert(l))"
   ]
  },
  {
   "cell_type": "markdown",
   "id": "3e8fd124",
   "metadata": {},
   "source": [
    "**50-Write a Python program to convert a tuple to a string"
   ]
  },
  {
   "cell_type": "code",
   "execution_count": 253,
   "id": "92a71ddc",
   "metadata": {},
   "outputs": [
    {
     "name": "stdout",
     "output_type": "stream",
     "text": [
      "10 20 30 40 50 60 \n"
     ]
    }
   ],
   "source": [
    "t = (10, 20, 30, 40, 50, 60)\n",
    "s=\"\"\n",
    "for i in t:\n",
    "    s=s+str(i)+\" \"\n",
    "print(s)"
   ]
  },
  {
   "cell_type": "markdown",
   "id": "f4f64ef4",
   "metadata": {},
   "source": [
    "**51-Write a Python program to convert a list to a tuple"
   ]
  },
  {
   "cell_type": "code",
   "execution_count": null,
   "id": "210d56d3",
   "metadata": {},
   "outputs": [],
   "source": [
    "l=[10, 20, 30, 40, 50]\n",
    "l.append(60)\n",
    "def convert(list):\n",
    "    return (*list, )\n",
    "print(convert(l))"
   ]
  },
  {
   "cell_type": "markdown",
   "id": "b1e00ef7",
   "metadata": {},
   "source": [
    "**52-Write a Python program to reverse a tuple"
   ]
  },
  {
   "cell_type": "code",
   "execution_count": 257,
   "id": "f45bfdc7",
   "metadata": {},
   "outputs": [
    {
     "name": "stdout",
     "output_type": "stream",
     "text": [
      "(50, 40, 30, 20, 10)\n"
     ]
    }
   ],
   "source": [
    "t = (10, 20, 30, 40, 50)\n",
    "l=list(t)\n",
    "l1=sorted(l,reverse=True)\n",
    "def convert(list):\n",
    "    return (*list, )\n",
    "print(convert(l1))"
   ]
  },
  {
   "cell_type": "markdown",
   "id": "3cd347d1",
   "metadata": {},
   "source": [
    "**53-Write a Python program to replace the last value of tuples in a list.<br>\n",
    "Sample list: [(10, 20, 40), (40, 50, 60), (70, 80, 90)] <br>\n",
    "Expected Output: [(10, 20, 100), (40, 50, 100), (70, 80, 100)]"
   ]
  },
  {
   "cell_type": "code",
   "execution_count": 259,
   "id": "3c4a2a4c",
   "metadata": {},
   "outputs": [
    {
     "name": "stdout",
     "output_type": "stream",
     "text": [
      "[(10, 20, 40), (40, 50, 60), (70, 80, 100)]\n"
     ]
    }
   ],
   "source": [
    "l=[(10, 20, 40), (40, 50, 60), (70, 80, 90)]\n",
    "s=len(l)-1\n",
    "s1=len(l[0])-1\n",
    "n=list(l[s])\n",
    "l.remove(l[s])\n",
    "n[s1]=100\n",
    "def convert(list):\n",
    "    return (*list, )\n",
    "l.append(convert(n))\n",
    "print(l)"
   ]
  },
  {
   "cell_type": "markdown",
   "id": "76bb7b39",
   "metadata": {},
   "source": [
    "**54-Write a Python program to convert a given string list to a tuple\n",
    "Original string: python 3.0 <br>\n",
    "<class 'str'> <br>\n",
    "Convert the said string to a tuple: <br>\n",
    "('p', 'y', 't', 'h', 'o', 'n', '3', '.', '0')"
   ]
  },
  {
   "cell_type": "code",
   "execution_count": 261,
   "id": "51951937",
   "metadata": {},
   "outputs": [
    {
     "name": "stdout",
     "output_type": "stream",
     "text": [
      "['p', 'y', 't', 'h', 'o', 'n', '3', '.', '0']\n"
     ]
    }
   ],
   "source": [
    "s=\"python 3.0\"\n",
    "t=[]\n",
    "for i in s:\n",
    "    if i!=\" \":\n",
    "        t.append(i)\n",
    "def convert(list):\n",
    "    return (*list, )\n",
    "print(t)"
   ]
  },
  {
   "cell_type": "markdown",
   "id": "5a1d5d97",
   "metadata": {},
   "source": [
    "**55-Write a Python program to calculate the average value of the numbers in a given tuple of tuples"
   ]
  },
  {
   "cell_type": "code",
   "execution_count": 267,
   "id": "834e7992",
   "metadata": {},
   "outputs": [
    {
     "name": "stdout",
     "output_type": "stream",
     "text": [
      "51.111111111111114\n"
     ]
    }
   ],
   "source": [
    "l=((10, 20, 40), (40, 50, 60), (70, 80, 90))\n",
    "counter=0\n",
    "sum=0\n",
    "for i in l:\n",
    "    for j in i:\n",
    "        counter=counter+1\n",
    "        sum=sum+j\n",
    "print(sum/counter)"
   ]
  },
  {
   "cell_type": "markdown",
   "id": "51edab9c",
   "metadata": {},
   "source": [
    "**56-Write a Python program to add member(s) to a set."
   ]
  },
  {
   "cell_type": "code",
   "execution_count": 269,
   "id": "2b65df79",
   "metadata": {},
   "outputs": [
    {
     "name": "stdout",
     "output_type": "stream",
     "text": [
      "{100, 70, 40, 10, 80, 50, 20, 90, 60, 30}\n"
     ]
    }
   ],
   "source": [
    "s={10,20,30,40,50,60,70,80,90}\n",
    "l=list(s)\n",
    "l.append(100)\n",
    "print(set(l))"
   ]
  },
  {
   "cell_type": "markdown",
   "id": "965590cc",
   "metadata": {},
   "source": [
    "**57-Write a Python program to remove an item from a set if it is present in the set."
   ]
  },
  {
   "cell_type": "code",
   "execution_count": 279,
   "id": "866bab28",
   "metadata": {},
   "outputs": [
    {
     "name": "stdout",
     "output_type": "stream",
     "text": [
      "{70, 40, 10, 80, 50, 20, 90, 60, 30}\n"
     ]
    }
   ],
   "source": [
    "s={10,20,30,40,50,60,70,80,90}\n",
    "k=700\n",
    "l=list(s)\n",
    "if k in l:\n",
    "    l.remove(k)\n",
    "print(set(l))"
   ]
  },
  {
   "cell_type": "markdown",
   "id": "2b7cfed1",
   "metadata": {},
   "source": [
    "**58-Write a Python program to create an intersection,union,difference and symmetric difference of sets"
   ]
  },
  {
   "cell_type": "code",
   "execution_count": 281,
   "id": "7f94b7fe",
   "metadata": {},
   "outputs": [
    {
     "name": "stdout",
     "output_type": "stream",
     "text": [
      "Intersection: {4, 5}\n",
      "Union: {1, 2, 3, 4, 5, 6, 7, 8}\n",
      "Difference (set1 - set2): {1, 2, 3}\n",
      "Symmetric Difference: {1, 2, 3, 6, 7, 8}\n"
     ]
    }
   ],
   "source": [
    "set1 = {1, 2, 3, 4, 5}\n",
    "set2 = {4, 5, 6, 7, 8}\n",
    "intersection_result = set1.intersection(set2)\n",
    "print(\"Intersection:\", intersection_result)\n",
    "union_result = set1.union(set2)\n",
    "print(\"Union:\", union_result)\n",
    "difference_result = set1.difference(set2)\n",
    "print(\"Difference (set1 - set2):\", difference_result)\n",
    "symmetric_difference_result = set1.symmetric_difference(set2)\n",
    "print(\"Symmetric Difference:\", symmetric_difference_result)\n"
   ]
  },
  {
   "cell_type": "markdown",
   "id": "b94931e2",
   "metadata": {},
   "source": [
    "**59-Write a Python program to find the maximum and minimum values in a set"
   ]
  },
  {
   "cell_type": "code",
   "execution_count": 283,
   "id": "203f9600",
   "metadata": {},
   "outputs": [
    {
     "name": "stdout",
     "output_type": "stream",
     "text": [
      "90\n",
      "10\n"
     ]
    }
   ],
   "source": [
    "s={10,20,30,40,50,60,70,80,90}\n",
    "l=list(s)\n",
    "print(max(l))\n",
    "print(min(l))"
   ]
  },
  {
   "cell_type": "markdown",
   "id": "255fd554",
   "metadata": {},
   "source": [
    "**60- Write a Python program that finds all pairs of elements in a list whose sum is equal to a given value."
   ]
  },
  {
   "cell_type": "code",
   "execution_count": 289,
   "id": "c2d94e1f",
   "metadata": {},
   "outputs": [
    {
     "name": "stdin",
     "output_type": "stream",
     "text": [
      "Enter: 100\n"
     ]
    },
    {
     "name": "stdout",
     "output_type": "stream",
     "text": [
      "[[10, 90], [20, 80], [30, 70], [40, 60], [50, 50], [60, 40], [70, 30], [80, 20], [90, 10]]\n"
     ]
    }
   ],
   "source": [
    "s=[10,20,30,40,50,60,70,80,90]\n",
    "l=[]\n",
    "k=int(input(\"Enter:\"))\n",
    "for i in s:\n",
    "    for j in s:\n",
    "        if j+i==k:\n",
    "            l.append([i,j])\n",
    "print(l)"
   ]
  },
  {
   "cell_type": "code",
   "execution_count": null,
   "id": "a9aa0217-3c00-4740-97f3-9ab133d9a541",
   "metadata": {},
   "outputs": [],
   "source": []
  }
 ],
 "metadata": {
  "kernelspec": {
   "display_name": "Python 3 (ipykernel)",
   "language": "python",
   "name": "python3"
  },
  "language_info": {
   "codemirror_mode": {
    "name": "ipython",
    "version": 3
   },
   "file_extension": ".py",
   "mimetype": "text/x-python",
   "name": "python",
   "nbconvert_exporter": "python",
   "pygments_lexer": "ipython3",
   "version": "3.12.4"
  }
 },
 "nbformat": 4,
 "nbformat_minor": 5
}
