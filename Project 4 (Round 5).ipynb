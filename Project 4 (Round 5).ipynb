{
 "cells": [
  {
   "cell_type": "code",
   "execution_count": 153,
   "id": "7c95995c-73e9-4d1b-8d67-0980528c0463",
   "metadata": {},
   "outputs": [],
   "source": [
    "import seaborn as sns\n",
    "import numpy as np\n",
    "import pandas as pd\n",
    "import statistics as st \n",
    "import matplotlib.pyplot as plt\n",
    "import sklearn.model_selection as sk \n",
    "from sklearn.linear_model import LogisticRegression\n",
    "from sklearn.model_selection import train_test_split\n",
    "from sklearn.metrics import accuracy_score\n",
    "from sklearn.metrics import mean_squared_error, mean_absolute_error, r2_score\n",
    "from sklearn import linear_model\n",
    "df=pd.read_csv(r\"C:\\Users\\Sara\\Downloads\\drug200.csv\")"
   ]
  },
  {
   "cell_type": "code",
   "execution_count": 155,
   "id": "68640691-a6cd-4030-8d54-3bc718b75bab",
   "metadata": {},
   "outputs": [
    {
     "name": "stdout",
     "output_type": "stream",
     "text": [
      "              Age     Na_to_K\n",
      "count  200.000000  200.000000\n",
      "mean    44.315000   16.084485\n",
      "std     16.544315    7.223956\n",
      "min     15.000000    6.269000\n",
      "25%     31.000000   10.445500\n",
      "50%     45.000000   13.936500\n",
      "75%     58.000000   19.380000\n",
      "max     74.000000   38.247000\n",
      "<class 'pandas.core.frame.DataFrame'>\n",
      "RangeIndex: 200 entries, 0 to 199\n",
      "Data columns (total 6 columns):\n",
      " #   Column       Non-Null Count  Dtype  \n",
      "---  ------       --------------  -----  \n",
      " 0   Age          200 non-null    int64  \n",
      " 1   Sex          200 non-null    object \n",
      " 2   BP           200 non-null    object \n",
      " 3   Cholesterol  200 non-null    object \n",
      " 4   Na_to_K      200 non-null    float64\n",
      " 5   Drug         200 non-null    object \n",
      "dtypes: float64(1), int64(1), object(4)\n",
      "memory usage: 9.5+ KB\n",
      "None\n"
     ]
    }
   ],
   "source": [
    "#understand data\n",
    "print(df.describe())\n",
    "print(df.info())\n",
    "#no columns with missing data"
   ]
  },
  {
   "cell_type": "code",
   "execution_count": 159,
   "id": "f6055b41-1a3f-450f-bc4c-87365741ce67",
   "metadata": {},
   "outputs": [
    {
     "name": "stdout",
     "output_type": "stream",
     "text": [
      "Index(['Age', 'Sex', 'BP', 'Cholesterol', 'Na_to_K', 'Drug'], dtype='object')\n"
     ]
    }
   ],
   "source": [
    "print(df.columns)"
   ]
  },
  {
   "cell_type": "code",
   "execution_count": 161,
   "id": "0fbf072e-6061-42c7-9c3e-761581695036",
   "metadata": {},
   "outputs": [
    {
     "name": "stdout",
     "output_type": "stream",
     "text": [
      "Age\n"
     ]
    },
    {
     "data": {
      "image/png": "[encoded data removed]",
      "text/plain": [
       "<Figure size 640x480 with 1 Axes>"
      ]
     },
     "metadata": {},
     "output_type": "display_data"
    },
    {
     "name": "stdout",
     "output_type": "stream",
     "text": [
      "Na_to_K\n"
     ]
    },
    {
     "data": {
      "image/png": "[encoded data removed]",
      "text/plain": [
       "<Figure size 640x480 with 1 Axes>"
      ]
     },
     "metadata": {},
     "output_type": "display_data"
    }
   ],
   "source": [
    "n_df= [\"Age\",\"Na_to_K\"]\n",
    "for j in n_df:\n",
    "    print(j)\n",
    "    plt.boxplot(df[j])\n",
    "    plt.show()\n",
    "#acceptable outliers\n",
    "def robust_Scaling(p):\n",
    "    lis=list(p)\n",
    "    q1 = np.quantile(lis, 0.10)\n",
    "    q3 = np.quantile(lis, 0.90)\n",
    "    med = np.median(lis)\n",
    "    iqr = q3-q1\n",
    "    p=(p-med)/iqr\n",
    "    return p\n",
    "for c in n_df:\n",
    "    df[c]=normalize(df[c])"
   ]
  },
  {
   "cell_type": "code",
   "execution_count": 163,
   "id": "855b9b5d-1673-45de-abc3-b12db72de41e",
   "metadata": {},
   "outputs": [
    {
     "name": "stdout",
     "output_type": "stream",
     "text": [
      "Sex\n",
      "2\n",
      "['F' 'M']\n",
      "BP\n",
      "3\n",
      "['HIGH' 'LOW' 'NORMAL']\n",
      "Cholesterol\n",
      "2\n",
      "['HIGH' 'NORMAL']\n",
      "Drug\n",
      "5\n",
      "['DrugY' 'drugC' 'drugX' 'drugA' 'drugB']\n"
     ]
    }
   ],
   "source": [
    "data= df.select_dtypes(exclude='number')\n",
    "for i in data:\n",
    "    print(i)\n",
    "    print(len(data[i].unique()))\n",
    "    print(data[i].unique())"
   ]
  },
  {
   "cell_type": "code",
   "execution_count": 165,
   "id": "cdb9ace2-bff7-478d-b5e1-292b8fa770f4",
   "metadata": {},
   "outputs": [
    {
     "name": "stderr",
     "output_type": "stream",
     "text": [
      "C:\\Users\\Sara\\AppData\\Local\\Temp\\ipykernel_16556\\1909476770.py:1: FutureWarning: ChainedAssignmentError: behaviour will change in pandas 3.0!\n",
      "You are setting values through chained assignment. Currently this works in certain cases, but when using Copy-on-Write (which will become the default behaviour in pandas 3.0) this will never work to update the original DataFrame or Series, because the intermediate object on which we are setting values will behave as a copy.\n",
      "A typical example is when you are setting values in a column of a DataFrame, like:\n",
      "\n",
      "df[\"col\"][row_indexer] = value\n",
      "\n",
      "Use `df.loc[row_indexer, \"col\"] = values` instead, to perform the assignment in a single step and ensure this keeps updating the original `df`.\n",
      "\n",
      "See the caveats in the documentation: https://pandas.pydata.org/pandas-docs/stable/user_guide/indexing.html#returning-a-view-versus-a-copy\n",
      "\n",
      "  df[\"Sex\"].loc[df[\"Sex\"]==\"F\"]=0\n",
      "C:\\Users\\Sara\\AppData\\Local\\Temp\\ipykernel_16556\\1909476770.py:1: SettingWithCopyWarning: \n",
      "A value is trying to be set on a copy of a slice from a DataFrame\n",
      "\n",
      "See the caveats in the documentation: https://pandas.pydata.org/pandas-docs/stable/user_guide/indexing.html#returning-a-view-versus-a-copy\n",
      "  df[\"Sex\"].loc[df[\"Sex\"]==\"F\"]=0\n",
      "C:\\Users\\Sara\\AppData\\Local\\Temp\\ipykernel_16556\\1909476770.py:2: FutureWarning: ChainedAssignmentError: behaviour will change in pandas 3.0!\n",
      "You are setting values through chained assignment. Currently this works in certain cases, but when using Copy-on-Write (which will become the default behaviour in pandas 3.0) this will never work to update the original DataFrame or Series, because the intermediate object on which we are setting values will behave as a copy.\n",
      "A typical example is when you are setting values in a column of a DataFrame, like:\n",
      "\n",
      "df[\"col\"][row_indexer] = value\n",
      "\n",
      "Use `df.loc[row_indexer, \"col\"] = values` instead, to perform the assignment in a single step and ensure this keeps updating the original `df`.\n",
      "\n",
      "See the caveats in the documentation: https://pandas.pydata.org/pandas-docs/stable/user_guide/indexing.html#returning-a-view-versus-a-copy\n",
      "\n",
      "  df[\"Sex\"].loc[df[\"Sex\"]==\"M\"]=1\n",
      "C:\\Users\\Sara\\AppData\\Local\\Temp\\ipykernel_16556\\1909476770.py:2: SettingWithCopyWarning: \n",
      "A value is trying to be set on a copy of a slice from a DataFrame\n",
      "\n",
      "See the caveats in the documentation: https://pandas.pydata.org/pandas-docs/stable/user_guide/indexing.html#returning-a-view-versus-a-copy\n",
      "  df[\"Sex\"].loc[df[\"Sex\"]==\"M\"]=1\n",
      "C:\\Users\\Sara\\AppData\\Local\\Temp\\ipykernel_16556\\1909476770.py:3: FutureWarning: ChainedAssignmentError: behaviour will change in pandas 3.0!\n",
      "You are setting values through chained assignment. Currently this works in certain cases, but when using Copy-on-Write (which will become the default behaviour in pandas 3.0) this will never work to update the original DataFrame or Series, because the intermediate object on which we are setting values will behave as a copy.\n",
      "A typical example is when you are setting values in a column of a DataFrame, like:\n",
      "\n",
      "df[\"col\"][row_indexer] = value\n",
      "\n",
      "Use `df.loc[row_indexer, \"col\"] = values` instead, to perform the assignment in a single step and ensure this keeps updating the original `df`.\n",
      "\n",
      "See the caveats in the documentation: https://pandas.pydata.org/pandas-docs/stable/user_guide/indexing.html#returning-a-view-versus-a-copy\n",
      "\n",
      "  df[\"BP\"].loc[df[\"BP\"]==\"LOW\"]=0\n",
      "C:\\Users\\Sara\\AppData\\Local\\Temp\\ipykernel_16556\\1909476770.py:3: SettingWithCopyWarning: \n",
      "A value is trying to be set on a copy of a slice from a DataFrame\n",
      "\n",
      "See the caveats in the documentation: https://pandas.pydata.org/pandas-docs/stable/user_guide/indexing.html#returning-a-view-versus-a-copy\n",
      "  df[\"BP\"].loc[df[\"BP\"]==\"LOW\"]=0\n",
      "C:\\Users\\Sara\\AppData\\Local\\Temp\\ipykernel_16556\\1909476770.py:4: FutureWarning: ChainedAssignmentError: behaviour will change in pandas 3.0!\n",
      "You are setting values through chained assignment. Currently this works in certain cases, but when using Copy-on-Write (which will become the default behaviour in pandas 3.0) this will never work to update the original DataFrame or Series, because the intermediate object on which we are setting values will behave as a copy.\n",
      "A typical example is when you are setting values in a column of a DataFrame, like:\n",
      "\n",
      "df[\"col\"][row_indexer] = value\n",
      "\n",
      "Use `df.loc[row_indexer, \"col\"] = values` instead, to perform the assignment in a single step and ensure this keeps updating the original `df`.\n",
      "\n",
      "See the caveats in the documentation: https://pandas.pydata.org/pandas-docs/stable/user_guide/indexing.html#returning-a-view-versus-a-copy\n",
      "\n",
      "  df[\"BP\"].loc[df[\"BP\"]==\"NORMAL\"]=1\n",
      "C:\\Users\\Sara\\AppData\\Local\\Temp\\ipykernel_16556\\1909476770.py:4: SettingWithCopyWarning: \n",
      "A value is trying to be set on a copy of a slice from a DataFrame\n",
      "\n",
      "See the caveats in the documentation: https://pandas.pydata.org/pandas-docs/stable/user_guide/indexing.html#returning-a-view-versus-a-copy\n",
      "  df[\"BP\"].loc[df[\"BP\"]==\"NORMAL\"]=1\n",
      "C:\\Users\\Sara\\AppData\\Local\\Temp\\ipykernel_16556\\1909476770.py:5: FutureWarning: ChainedAssignmentError: behaviour will change in pandas 3.0!\n",
      "You are setting values through chained assignment. Currently this works in certain cases, but when using Copy-on-Write (which will become the default behaviour in pandas 3.0) this will never work to update the original DataFrame or Series, because the intermediate object on which we are setting values will behave as a copy.\n",
      "A typical example is when you are setting values in a column of a DataFrame, like:\n",
      "\n",
      "df[\"col\"][row_indexer] = value\n",
      "\n",
      "Use `df.loc[row_indexer, \"col\"] = values` instead, to perform the assignment in a single step and ensure this keeps updating the original `df`.\n",
      "\n",
      "See the caveats in the documentation: https://pandas.pydata.org/pandas-docs/stable/user_guide/indexing.html#returning-a-view-versus-a-copy\n",
      "\n",
      "  df[\"BP\"].loc[df[\"BP\"]==\"HIGH\"]=2\n",
      "C:\\Users\\Sara\\AppData\\Local\\Temp\\ipykernel_16556\\1909476770.py:5: SettingWithCopyWarning: \n",
      "A value is trying to be set on a copy of a slice from a DataFrame\n",
      "\n",
      "See the caveats in the documentation: https://pandas.pydata.org/pandas-docs/stable/user_guide/indexing.html#returning-a-view-versus-a-copy\n",
      "  df[\"BP\"].loc[df[\"BP\"]==\"HIGH\"]=2\n",
      "C:\\Users\\Sara\\AppData\\Local\\Temp\\ipykernel_16556\\1909476770.py:6: FutureWarning: ChainedAssignmentError: behaviour will change in pandas 3.0!\n",
      "You are setting values through chained assignment. Currently this works in certain cases, but when using Copy-on-Write (which will become the default behaviour in pandas 3.0) this will never work to update the original DataFrame or Series, because the intermediate object on which we are setting values will behave as a copy.\n",
      "A typical example is when you are setting values in a column of a DataFrame, like:\n",
      "\n",
      "df[\"col\"][row_indexer] = value\n",
      "\n",
      "Use `df.loc[row_indexer, \"col\"] = values` instead, to perform the assignment in a single step and ensure this keeps updating the original `df`.\n",
      "\n",
      "See the caveats in the documentation: https://pandas.pydata.org/pandas-docs/stable/user_guide/indexing.html#returning-a-view-versus-a-copy\n",
      "\n",
      "  df[\"Cholesterol\"].loc[df[\"Cholesterol\"]==\"NORMAL\"]=0\n",
      "C:\\Users\\Sara\\AppData\\Local\\Temp\\ipykernel_16556\\1909476770.py:6: SettingWithCopyWarning: \n",
      "A value is trying to be set on a copy of a slice from a DataFrame\n",
      "\n",
      "See the caveats in the documentation: https://pandas.pydata.org/pandas-docs/stable/user_guide/indexing.html#returning-a-view-versus-a-copy\n",
      "  df[\"Cholesterol\"].loc[df[\"Cholesterol\"]==\"NORMAL\"]=0\n",
      "C:\\Users\\Sara\\AppData\\Local\\Temp\\ipykernel_16556\\1909476770.py:7: FutureWarning: ChainedAssignmentError: behaviour will change in pandas 3.0!\n",
      "You are setting values through chained assignment. Currently this works in certain cases, but when using Copy-on-Write (which will become the default behaviour in pandas 3.0) this will never work to update the original DataFrame or Series, because the intermediate object on which we are setting values will behave as a copy.\n",
      "A typical example is when you are setting values in a column of a DataFrame, like:\n",
      "\n",
      "df[\"col\"][row_indexer] = value\n",
      "\n",
      "Use `df.loc[row_indexer, \"col\"] = values` instead, to perform the assignment in a single step and ensure this keeps updating the original `df`.\n",
      "\n",
      "See the caveats in the documentation: https://pandas.pydata.org/pandas-docs/stable/user_guide/indexing.html#returning-a-view-versus-a-copy\n",
      "\n",
      "  df[\"Cholesterol\"].loc[df[\"Cholesterol\"]==\"HIGH\"]=1\n",
      "C:\\Users\\Sara\\AppData\\Local\\Temp\\ipykernel_16556\\1909476770.py:7: SettingWithCopyWarning: \n",
      "A value is trying to be set on a copy of a slice from a DataFrame\n",
      "\n",
      "See the caveats in the documentation: https://pandas.pydata.org/pandas-docs/stable/user_guide/indexing.html#returning-a-view-versus-a-copy\n",
      "  df[\"Cholesterol\"].loc[df[\"Cholesterol\"]==\"HIGH\"]=1\n"
     ]
    }
   ],
   "source": [
    "df[\"Sex\"].loc[df[\"Sex\"]==\"F\"]=0\n",
    "df[\"Sex\"].loc[df[\"Sex\"]==\"M\"]=1\n",
    "df[\"BP\"].loc[df[\"BP\"]==\"LOW\"]=0\n",
    "df[\"BP\"].loc[df[\"BP\"]==\"NORMAL\"]=1\n",
    "df[\"BP\"].loc[df[\"BP\"]==\"HIGH\"]=2\n",
    "df[\"Cholesterol\"].loc[df[\"Cholesterol\"]==\"NORMAL\"]=0\n",
    "df[\"Cholesterol\"].loc[df[\"Cholesterol\"]==\"HIGH\"]=1\n",
    "df[\"Sex\"]=df[\"Sex\"].astype('int64')\n",
    "df[\"BP\"]=df[\"BP\"].astype('float64')\n",
    "df[\"Cholesterol\"]=df[\"Cholesterol\"].astype('int64')\n",
    "l=list(df[\"Drug\"].unique())\n",
    "for z in l:\n",
    "    n=list(df[\"Drug\"]==z)\n",
    "    for i in range(len(n)):\n",
    "        if n[i]==True:\n",
    "            n[i]=1\n",
    "        else:\n",
    "            n[i]=0\n",
    "    df.loc[:, z] = n\n",
    "df.drop(columns=\"Drug\",inplace=True)"
   ]
  },
  {
   "cell_type": "code",
   "execution_count": 167,
   "id": "52838837-548d-47c6-a5f4-0f89f5a9c87f",
   "metadata": {},
   "outputs": [
    {
     "name": "stdout",
     "output_type": "stream",
     "text": [
      "          Age  Sex   BP  Cholesterol   Na_to_K  DrugY  drugC  drugX  drugA  \\\n",
      "0    0.135593    0  2.0            1  0.596848      1      0      0      0   \n",
      "1    0.542373    1  0.0            1  0.213397      0      1      0      0   \n",
      "2    0.542373    1  0.0            1  0.120239      0      1      0      0   \n",
      "3    0.220339    0  1.0            1  0.047814      0      0      1      0   \n",
      "4    0.779661    0  0.0            1  0.368191      1      0      0      0   \n",
      "..        ...  ...  ...          ...       ...    ...    ...    ...    ...   \n",
      "195  0.694915    0  0.0            1  0.165676      0      1      0      0   \n",
      "196  0.016949    1  0.0            1  0.179405      0      1      0      0   \n",
      "197  0.627119    1  1.0            1  0.113359      0      0      1      0   \n",
      "198  0.135593    1  1.0            0  0.242385      0      0      1      0   \n",
      "199  0.423729    0  0.0            0  0.158859      0      0      1      0   \n",
      "\n",
      "     drugB  \n",
      "0        0  \n",
      "1        0  \n",
      "2        0  \n",
      "3        0  \n",
      "4        0  \n",
      "..     ...  \n",
      "195      0  \n",
      "196      0  \n",
      "197      0  \n",
      "198      0  \n",
      "199      0  \n",
      "\n",
      "[200 rows x 10 columns]\n"
     ]
    }
   ],
   "source": [
    "print(df)"
   ]
  },
  {
   "cell_type": "code",
   "execution_count": 169,
   "id": "c4be54a5-a6c7-484a-b304-8c1989177654",
   "metadata": {},
   "outputs": [
    {
     "name": "stdout",
     "output_type": "stream",
     "text": [
      "Age            0.068234\n",
      "Sex            0.008811\n",
      "BP            -0.032208\n",
      "Cholesterol    1.000000\n",
      "Na_to_K       -0.010000\n",
      "DrugY          0.002712\n",
      "drugC          0.286166\n",
      "drugX         -0.175996\n",
      "drugA          0.004861\n",
      "drugB         -0.008851\n",
      "Name: Cholesterol, dtype: float64\n"
     ]
    }
   ],
   "source": [
    "print(df.corr()[\"Cholesterol\"])"
   ]
  },
  {
   "cell_type": "code",
   "execution_count": 171,
   "id": "afde2303-ea2d-4968-92de-5fae7262abd1",
   "metadata": {},
   "outputs": [
    {
     "name": "stdout",
     "output_type": "stream",
     "text": [
      "Model Accuracy:  50.0 %\n"
     ]
    }
   ],
   "source": [
    "x=df.drop(columns=[\"Cholesterol\"])\n",
    "y=df[\"Cholesterol\"]\n",
    "x_train,x_test,y_train,y_test=train_test_split(x,y,test_size=0.2,random_state=20)\n",
    "model=LogisticRegression()\n",
    "model.fit(x_train,y_train)\n",
    "y_pred=model.predict(x_test)\n",
    "print(\"Model Accuracy: \",accuracy_score(y_test,y_pred)*100,\"%\")"
   ]
  },
  {
   "cell_type": "code",
   "execution_count": null,
   "id": "26fb650b-848f-4067-93a5-c3c3a3178a7a",
   "metadata": {},
   "outputs": [],
   "source": []
  }
 ],
 "metadata": {
  "kernelspec": {
   "display_name": "Python 3 (ipykernel)",
   "language": "python",
   "name": "python3"
  },
  "language_info": {
   "codemirror_mode": {
    "name": "ipython",
    "version": 3
   },
   "file_extension": ".py",
   "mimetype": "text/x-python",
   "name": "python",
   "nbconvert_exporter": "python",
   "pygments_lexer": "ipython3",
   "version": "3.12.4"
  }
 },
 "nbformat": 4,
 "nbformat_minor": 5
}
