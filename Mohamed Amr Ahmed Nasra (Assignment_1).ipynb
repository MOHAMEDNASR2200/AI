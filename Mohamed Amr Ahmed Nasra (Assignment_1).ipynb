{
 "cells": [
  {
   "cell_type": "markdown",
   "metadata": {
    "id": "NGY77waQA1X1"
   },
   "source": [
    "# Assignment 2 - Pandas Introduction\n",
    "All questions are weighted the same in this assignment.\n",
    "## Part 1\n",
    "The following code loads the olympics dataset (olympics.csv), which was derrived from the Wikipedia entry on [All Time Olympic Games Medals](https://en.wikipedia.org/wiki/All-time_Olympic_Games_medal_table), and does some basic data cleaning.\n",
    "\n",
    "The columns are organized as # of Summer games, Summer medals, # of Winter games, Winter medals, total # number of games, total # of medals. Use this dataset to answer the questions below."
   ]
  },
  {
   "cell_type": "code",
   "execution_count": 11,
   "metadata": {
    "id": "9b3sAUxXA1X5",
    "nbgrader": {
     "grade": false,
     "grade_id": "1",
     "locked": false,
     "solution": false
    },
    "outputId": "09fa1851-480e-455c-e3d6-34d1b43c65ee",
    "umich_question": "prolog-000"
   },
   "outputs": [],
   "source": [
    "import pandas as pd\n",
    "\n",
    "df = pd.read_csv('olympics.csv', index_col=0, skiprows=1)"
   ]
  },
  {
   "cell_type": "code",
   "execution_count": 5,
   "metadata": {},
   "outputs": [
    {
     "name": "stdout",
     "output_type": "stream",
     "text": [
      "<class 'pandas.core.frame.DataFrame'>\n",
      "Index: 147 entries, Afghanistan (AFG) to Totals\n",
      "Data columns (total 15 columns):\n",
      " #   Column          Non-Null Count  Dtype\n",
      "---  ------          --------------  -----\n",
      " 0   № Summer        147 non-null    int64\n",
      " 1   01 !            147 non-null    int64\n",
      " 2   02 !            147 non-null    int64\n",
      " 3   03 !            147 non-null    int64\n",
      " 4   Total           147 non-null    int64\n",
      " 5   № Winter        147 non-null    int64\n",
      " 6   01 !.1          147 non-null    int64\n",
      " 7   02 !.1          147 non-null    int64\n",
      " 8   03 !.1          147 non-null    int64\n",
      " 9   Total.1         147 non-null    int64\n",
      " 10  № Games         147 non-null    int64\n",
      " 11  01 !.2          147 non-null    int64\n",
      " 12  02 !.2          147 non-null    int64\n",
      " 13  03 !.2          147 non-null    int64\n",
      " 14  Combined total  147 non-null    int64\n",
      "dtypes: int64(15)\n",
      "memory usage: 18.4+ KB\n"
     ]
    },
    {
     "data": {
      "text/plain": [
       "Index(['№ Summer', '01 !', '02 !', '03 !', 'Total', '№ Winter', '01 !.1',\n",
       "       '02 !.1', '03 !.1', 'Total.1', '№ Games', '01 !.2', '02 !.2', '03 !.2',\n",
       "       'Combined total'],\n",
       "      dtype='object')"
      ]
     },
     "execution_count": 5,
     "metadata": {},
     "output_type": "execute_result"
    }
   ],
   "source": [
    "df.info()\n",
    "df.columns"
   ]
  },
  {
   "cell_type": "markdown",
   "metadata": {
    "id": "eVWAYA3CA1YC"
   },
   "source": [
    "### Question 0 (Example)\n",
    "\n",
    "What is the first country in df?\n",
    "\n",
    "*This function should return a Series.*"
   ]
  },
  {
   "cell_type": "code",
   "execution_count": 9,
   "metadata": {
    "id": "ZiclnUhsA1YD",
    "outputId": "d2bd6de9-6cb4-4781-ed11-4c6581e9aa33",
    "scrolled": true,
    "umich_question": "000"
   },
   "outputs": [],
   "source": [
    "# You should write your whole answer within the function provided. The autograder will call\n",
    "# this function and compare the return value against the correct solution value\n",
    "def answer_zero():\n",
    "    # This function returns the row for Afghanistan, which is a Series object. The assignment\n",
    "    # question description will tell you the general format the autograder is expecting\n",
    "    df[\"country\"]=df.index\n",
    "    df.drop(\"Totals\",inplace=True)\n",
    "# You can examine what your function returns by calling it in the cell. If you have questions\n",
    "# about the assignment formats, check out the discussion forums for any FAQs\n",
    "answer_zero()"
   ]
  },
  {
   "cell_type": "code",
   "execution_count": 290,
   "metadata": {},
   "outputs": [
    {
     "data": {
      "text/html": [
       "<div>\n",
       "<style scoped>\n",
       "    .dataframe tbody tr th:only-of-type {\n",
       "        vertical-align: middle;\n",
       "    }\n",
       "\n",
       "    .dataframe tbody tr th {\n",
       "        vertical-align: top;\n",
       "    }\n",
       "\n",
       "    .dataframe thead th {\n",
       "        text-align: right;\n",
       "    }\n",
       "</style>\n",
       "<table border=\"1\" class=\"dataframe\">\n",
       "  <thead>\n",
       "    <tr style=\"text-align: right;\">\n",
       "      <th></th>\n",
       "      <th>№ Summer</th>\n",
       "      <th>01 !</th>\n",
       "      <th>02 !</th>\n",
       "      <th>03 !</th>\n",
       "      <th>Total</th>\n",
       "      <th>№ Winter</th>\n",
       "      <th>01 !.1</th>\n",
       "      <th>02 !.1</th>\n",
       "      <th>03 !.1</th>\n",
       "      <th>Total.1</th>\n",
       "      <th>№ Games</th>\n",
       "      <th>01 !.2</th>\n",
       "      <th>02 !.2</th>\n",
       "      <th>03 !.2</th>\n",
       "      <th>Combined total</th>\n",
       "      <th>country</th>\n",
       "    </tr>\n",
       "  </thead>\n",
       "  <tbody>\n",
       "    <tr>\n",
       "      <th>Afghanistan (AFG)</th>\n",
       "      <td>13</td>\n",
       "      <td>0</td>\n",
       "      <td>0</td>\n",
       "      <td>2</td>\n",
       "      <td>2</td>\n",
       "      <td>0</td>\n",
       "      <td>0</td>\n",
       "      <td>0</td>\n",
       "      <td>0</td>\n",
       "      <td>0</td>\n",
       "      <td>13</td>\n",
       "      <td>0</td>\n",
       "      <td>0</td>\n",
       "      <td>2</td>\n",
       "      <td>2</td>\n",
       "      <td>Afghanistan (AFG)</td>\n",
       "    </tr>\n",
       "    <tr>\n",
       "      <th>Algeria (ALG)</th>\n",
       "      <td>12</td>\n",
       "      <td>5</td>\n",
       "      <td>2</td>\n",
       "      <td>8</td>\n",
       "      <td>15</td>\n",
       "      <td>3</td>\n",
       "      <td>0</td>\n",
       "      <td>0</td>\n",
       "      <td>0</td>\n",
       "      <td>0</td>\n",
       "      <td>15</td>\n",
       "      <td>5</td>\n",
       "      <td>2</td>\n",
       "      <td>8</td>\n",
       "      <td>15</td>\n",
       "      <td>Algeria (ALG)</td>\n",
       "    </tr>\n",
       "    <tr>\n",
       "      <th>Argentina (ARG)</th>\n",
       "      <td>23</td>\n",
       "      <td>18</td>\n",
       "      <td>24</td>\n",
       "      <td>28</td>\n",
       "      <td>70</td>\n",
       "      <td>18</td>\n",
       "      <td>0</td>\n",
       "      <td>0</td>\n",
       "      <td>0</td>\n",
       "      <td>0</td>\n",
       "      <td>41</td>\n",
       "      <td>18</td>\n",
       "      <td>24</td>\n",
       "      <td>28</td>\n",
       "      <td>70</td>\n",
       "      <td>Argentina (ARG)</td>\n",
       "    </tr>\n",
       "    <tr>\n",
       "      <th>Armenia (ARM)</th>\n",
       "      <td>5</td>\n",
       "      <td>1</td>\n",
       "      <td>2</td>\n",
       "      <td>9</td>\n",
       "      <td>12</td>\n",
       "      <td>6</td>\n",
       "      <td>0</td>\n",
       "      <td>0</td>\n",
       "      <td>0</td>\n",
       "      <td>0</td>\n",
       "      <td>11</td>\n",
       "      <td>1</td>\n",
       "      <td>2</td>\n",
       "      <td>9</td>\n",
       "      <td>12</td>\n",
       "      <td>Armenia (ARM)</td>\n",
       "    </tr>\n",
       "    <tr>\n",
       "      <th>Australasia (ANZ) [ANZ]</th>\n",
       "      <td>2</td>\n",
       "      <td>3</td>\n",
       "      <td>4</td>\n",
       "      <td>5</td>\n",
       "      <td>12</td>\n",
       "      <td>0</td>\n",
       "      <td>0</td>\n",
       "      <td>0</td>\n",
       "      <td>0</td>\n",
       "      <td>0</td>\n",
       "      <td>2</td>\n",
       "      <td>3</td>\n",
       "      <td>4</td>\n",
       "      <td>5</td>\n",
       "      <td>12</td>\n",
       "      <td>Australasia (ANZ) [ANZ]</td>\n",
       "    </tr>\n",
       "    <tr>\n",
       "      <th>...</th>\n",
       "      <td>...</td>\n",
       "      <td>...</td>\n",
       "      <td>...</td>\n",
       "      <td>...</td>\n",
       "      <td>...</td>\n",
       "      <td>...</td>\n",
       "      <td>...</td>\n",
       "      <td>...</td>\n",
       "      <td>...</td>\n",
       "      <td>...</td>\n",
       "      <td>...</td>\n",
       "      <td>...</td>\n",
       "      <td>...</td>\n",
       "      <td>...</td>\n",
       "      <td>...</td>\n",
       "      <td>...</td>\n",
       "    </tr>\n",
       "    <tr>\n",
       "      <th>Yugoslavia (YUG) [YUG]</th>\n",
       "      <td>16</td>\n",
       "      <td>26</td>\n",
       "      <td>29</td>\n",
       "      <td>28</td>\n",
       "      <td>83</td>\n",
       "      <td>14</td>\n",
       "      <td>0</td>\n",
       "      <td>3</td>\n",
       "      <td>1</td>\n",
       "      <td>4</td>\n",
       "      <td>30</td>\n",
       "      <td>26</td>\n",
       "      <td>32</td>\n",
       "      <td>29</td>\n",
       "      <td>87</td>\n",
       "      <td>Yugoslavia (YUG) [YUG]</td>\n",
       "    </tr>\n",
       "    <tr>\n",
       "      <th>Independent Olympic Participants (IOP) [IOP]</th>\n",
       "      <td>1</td>\n",
       "      <td>0</td>\n",
       "      <td>1</td>\n",
       "      <td>2</td>\n",
       "      <td>3</td>\n",
       "      <td>0</td>\n",
       "      <td>0</td>\n",
       "      <td>0</td>\n",
       "      <td>0</td>\n",
       "      <td>0</td>\n",
       "      <td>1</td>\n",
       "      <td>0</td>\n",
       "      <td>1</td>\n",
       "      <td>2</td>\n",
       "      <td>3</td>\n",
       "      <td>Independent Olympic Participants (IOP) [IOP]</td>\n",
       "    </tr>\n",
       "    <tr>\n",
       "      <th>Zambia (ZAM) [ZAM]</th>\n",
       "      <td>12</td>\n",
       "      <td>0</td>\n",
       "      <td>1</td>\n",
       "      <td>1</td>\n",
       "      <td>2</td>\n",
       "      <td>0</td>\n",
       "      <td>0</td>\n",
       "      <td>0</td>\n",
       "      <td>0</td>\n",
       "      <td>0</td>\n",
       "      <td>12</td>\n",
       "      <td>0</td>\n",
       "      <td>1</td>\n",
       "      <td>1</td>\n",
       "      <td>2</td>\n",
       "      <td>Zambia (ZAM) [ZAM]</td>\n",
       "    </tr>\n",
       "    <tr>\n",
       "      <th>Zimbabwe (ZIM) [ZIM]</th>\n",
       "      <td>12</td>\n",
       "      <td>3</td>\n",
       "      <td>4</td>\n",
       "      <td>1</td>\n",
       "      <td>8</td>\n",
       "      <td>1</td>\n",
       "      <td>0</td>\n",
       "      <td>0</td>\n",
       "      <td>0</td>\n",
       "      <td>0</td>\n",
       "      <td>13</td>\n",
       "      <td>3</td>\n",
       "      <td>4</td>\n",
       "      <td>1</td>\n",
       "      <td>8</td>\n",
       "      <td>Zimbabwe (ZIM) [ZIM]</td>\n",
       "    </tr>\n",
       "    <tr>\n",
       "      <th>Mixed team (ZZX) [ZZX]</th>\n",
       "      <td>3</td>\n",
       "      <td>8</td>\n",
       "      <td>5</td>\n",
       "      <td>4</td>\n",
       "      <td>17</td>\n",
       "      <td>0</td>\n",
       "      <td>0</td>\n",
       "      <td>0</td>\n",
       "      <td>0</td>\n",
       "      <td>0</td>\n",
       "      <td>3</td>\n",
       "      <td>8</td>\n",
       "      <td>5</td>\n",
       "      <td>4</td>\n",
       "      <td>17</td>\n",
       "      <td>Mixed team (ZZX) [ZZX]</td>\n",
       "    </tr>\n",
       "  </tbody>\n",
       "</table>\n",
       "<p>146 rows × 16 columns</p>\n",
       "</div>"
      ],
      "text/plain": [
       "                                              № Summer  01 !  02 !  03 !  \\\n",
       "Afghanistan (AFG)                                   13     0     0     2   \n",
       "Algeria (ALG)                                       12     5     2     8   \n",
       "Argentina (ARG)                                     23    18    24    28   \n",
       "Armenia (ARM)                                        5     1     2     9   \n",
       "Australasia (ANZ) [ANZ]                              2     3     4     5   \n",
       "...                                                ...   ...   ...   ...   \n",
       "Yugoslavia (YUG) [YUG]                              16    26    29    28   \n",
       "Independent Olympic Participants (IOP) [IOP]         1     0     1     2   \n",
       "Zambia (ZAM) [ZAM]                                  12     0     1     1   \n",
       "Zimbabwe (ZIM) [ZIM]                                12     3     4     1   \n",
       "Mixed team (ZZX) [ZZX]                               3     8     5     4   \n",
       "\n",
       "                                              Total  № Winter  01 !.1  02 !.1  \\\n",
       "Afghanistan (AFG)                                 2         0       0       0   \n",
       "Algeria (ALG)                                    15         3       0       0   \n",
       "Argentina (ARG)                                  70        18       0       0   \n",
       "Armenia (ARM)                                    12         6       0       0   \n",
       "Australasia (ANZ) [ANZ]                          12         0       0       0   \n",
       "...                                             ...       ...     ...     ...   \n",
       "Yugoslavia (YUG) [YUG]                           83        14       0       3   \n",
       "Independent Olympic Participants (IOP) [IOP]      3         0       0       0   \n",
       "Zambia (ZAM) [ZAM]                                2         0       0       0   \n",
       "Zimbabwe (ZIM) [ZIM]                              8         1       0       0   \n",
       "Mixed team (ZZX) [ZZX]                           17         0       0       0   \n",
       "\n",
       "                                              03 !.1  Total.1  № Games  \\\n",
       "Afghanistan (AFG)                                  0        0       13   \n",
       "Algeria (ALG)                                      0        0       15   \n",
       "Argentina (ARG)                                    0        0       41   \n",
       "Armenia (ARM)                                      0        0       11   \n",
       "Australasia (ANZ) [ANZ]                            0        0        2   \n",
       "...                                              ...      ...      ...   \n",
       "Yugoslavia (YUG) [YUG]                             1        4       30   \n",
       "Independent Olympic Participants (IOP) [IOP]       0        0        1   \n",
       "Zambia (ZAM) [ZAM]                                 0        0       12   \n",
       "Zimbabwe (ZIM) [ZIM]                               0        0       13   \n",
       "Mixed team (ZZX) [ZZX]                             0        0        3   \n",
       "\n",
       "                                              01 !.2  02 !.2  03 !.2  \\\n",
       "Afghanistan (AFG)                                  0       0       2   \n",
       "Algeria (ALG)                                      5       2       8   \n",
       "Argentina (ARG)                                   18      24      28   \n",
       "Armenia (ARM)                                      1       2       9   \n",
       "Australasia (ANZ) [ANZ]                            3       4       5   \n",
       "...                                              ...     ...     ...   \n",
       "Yugoslavia (YUG) [YUG]                            26      32      29   \n",
       "Independent Olympic Participants (IOP) [IOP]       0       1       2   \n",
       "Zambia (ZAM) [ZAM]                                 0       1       1   \n",
       "Zimbabwe (ZIM) [ZIM]                               3       4       1   \n",
       "Mixed team (ZZX) [ZZX]                             8       5       4   \n",
       "\n",
       "                                              Combined total  \\\n",
       "Afghanistan (AFG)                                          2   \n",
       "Algeria (ALG)                                             15   \n",
       "Argentina (ARG)                                           70   \n",
       "Armenia (ARM)                                             12   \n",
       "Australasia (ANZ) [ANZ]                                   12   \n",
       "...                                                      ...   \n",
       "Yugoslavia (YUG) [YUG]                                    87   \n",
       "Independent Olympic Participants (IOP) [IOP]               3   \n",
       "Zambia (ZAM) [ZAM]                                         2   \n",
       "Zimbabwe (ZIM) [ZIM]                                       8   \n",
       "Mixed team (ZZX) [ZZX]                                    17   \n",
       "\n",
       "                                                                                   country  \n",
       "Afghanistan (AFG)                                                        Afghanistan (AFG)  \n",
       "Algeria (ALG)                                                                Algeria (ALG)  \n",
       "Argentina (ARG)                                                            Argentina (ARG)  \n",
       "Armenia (ARM)                                                                Armenia (ARM)  \n",
       "Australasia (ANZ) [ANZ]                                            Australasia (ANZ) [ANZ]  \n",
       "...                                                                                    ...  \n",
       "Yugoslavia (YUG) [YUG]                                              Yugoslavia (YUG) [YUG]  \n",
       "Independent Olympic Participants (IOP) [IOP]  Independent Olympic Participants (IOP) [IOP]  \n",
       "Zambia (ZAM) [ZAM]                                                      Zambia (ZAM) [ZAM]  \n",
       "Zimbabwe (ZIM) [ZIM]                                                  Zimbabwe (ZIM) [ZIM]  \n",
       "Mixed team (ZZX) [ZZX]                                              Mixed team (ZZX) [ZZX]  \n",
       "\n",
       "[146 rows x 16 columns]"
      ]
     },
     "execution_count": 290,
     "metadata": {},
     "output_type": "execute_result"
    }
   ],
   "source": [
    "df"
   ]
  },
  {
   "cell_type": "code",
   "execution_count": null,
   "metadata": {},
   "outputs": [],
   "source": []
  },
  {
   "cell_type": "markdown",
   "metadata": {
    "id": "yZ689489A1YE"
   },
   "source": [
    "### Question 1\n",
    "Which country has won the most gold medals in summer games?\n",
    "\n",
    "*This function should return a single string value.*"
   ]
  },
  {
   "cell_type": "code",
   "execution_count": 292,
   "metadata": {
    "id": "q9ydTVYfA1YE",
    "nbgrader": {
     "grade": false,
     "locked": false,
     "solution": false
    },
    "outputId": "c54aeec0-dd0a-4a4c-a6fc-6af09516e2c2",
    "umich_part_id": "001",
    "umich_partlist_id": "001"
   },
   "outputs": [
    {
     "data": {
      "text/plain": [
       "United States (USA) [P] [Q] [R] [Z]    United States (USA) [P] [Q] [R] [Z]\n",
       "Name: country, dtype: object"
      ]
     },
     "execution_count": 292,
     "metadata": {},
     "output_type": "execute_result"
    }
   ],
   "source": [
    "def answer_one():\n",
    "    m=max(df['01 !'])\n",
    "    l=df[df['01 !']==m]\n",
    "    return l[\"country\"]\n",
    "answer_one()"
   ]
  },
  {
   "cell_type": "markdown",
   "metadata": {
    "id": "KHT5b83sA1YE"
   },
   "source": [
    "### Question 2\n",
    "Which country had the biggest difference between their summer and winter gold medal counts?\n",
    "\n",
    "*This function should return a single string value.*"
   ]
  },
  {
   "cell_type": "code",
   "execution_count": 41,
   "metadata": {
    "id": "jHtbg2ADA1YF",
    "outputId": "93831b82-a51a-4199-b95f-51300a250b79",
    "umich_part_id": "002",
    "umich_partlist_id": "001"
   },
   "outputs": [
    {
     "data": {
      "text/plain": [
       "United States (USA) [P] [Q] [R] [Z]    United States (USA) [P] [Q] [R] [Z]\n",
       "Name: country, dtype: object"
      ]
     },
     "execution_count": 41,
     "metadata": {},
     "output_type": "execute_result"
    }
   ],
   "source": [
    "import numpy as np\n",
    "def answer_two():\n",
    "    l=np.array(df[\"01 !\"])\n",
    "    l1=np.array(df[\"01 !.1\"])\n",
    "    l2=abs(l-l1)\n",
    "    m=max(l2)\n",
    "    l=df[(df['01 !']-df['01 !.1'])==m]\n",
    "    return l[\"country\"]\n",
    "answer_two()"
   ]
  },
  {
   "cell_type": "code",
   "execution_count": null,
   "metadata": {},
   "outputs": [],
   "source": []
  },
  {
   "cell_type": "markdown",
   "metadata": {
    "id": "vwyjifNfA1YH"
   },
   "source": [
    "### Question 3\n",
    "Which country has the biggest difference between their summer gold medal counts and winter gold medal counts relative to their total gold medal count?\n",
    "\n",
    "$$\\frac{Summer~Gold - Winter~Gold}{Total~Gold}$$\n",
    "\n",
    "Only include countries that have won at least 1 gold in both summer and winter.\n",
    "\n",
    "*This function should return a single string value.*"
   ]
  },
  {
   "cell_type": "code",
   "execution_count": 69,
   "metadata": {
    "id": "CtyLMHQEA1YH",
    "outputId": "aff96049-c28d-4c66-dfba-a9023bc73a9c",
    "umich_part_id": "003",
    "umich_partlist_id": "001"
   },
   "outputs": [
    {
     "data": {
      "text/plain": [
       "Bulgaria (BUL) [H]    Bulgaria (BUL) [H]\n",
       "Name: country, dtype: object"
      ]
     },
     "execution_count": 69,
     "metadata": {},
     "output_type": "execute_result"
    }
   ],
   "source": [
    "def answer_three():\n",
    "    base=df.loc[(df[\"01 !.1\"]>=1)&(df[\"01 !\"]>=1)]\n",
    "    l=np.array(base[\"01 !\"])\n",
    "    l1=np.array(base[\"01 !.1\"])\n",
    "    l2=np.array(base[\"01 !.2\"])\n",
    "    l3=l+l1+l2\n",
    "    l4=abs((l-l1))/l3\n",
    "    m=max(l4)\n",
    "    lis=base.loc[((base[\"01 !\"]-base[\"01 !.1\"])/(base[\"01 !\"]+base[\"01 !.1\"]+base[\"01 !.2\"]))==m][\"country\"]\n",
    "    return lis\n",
    "answer_three()"
   ]
  },
  {
   "cell_type": "code",
   "execution_count": null,
   "metadata": {},
   "outputs": [],
   "source": []
  },
  {
   "cell_type": "markdown",
   "metadata": {
    "id": "R71t_JtgA1YH"
   },
   "source": [
    "### Question 4\n",
    "Write a function that creates a Series called \"Points\" which is a weighted value where each gold medal (`Gold.2`) counts for 3 points, silver medals (`Silver.2`) for 2 points, and bronze medals (`Bronze.2`) for 1 point. The function should return only the column (a Series object) which you created, with the country names as indices.\n",
    "\n",
    "*This function should return a Series named `Points` of length 146*"
   ]
  },
  {
   "cell_type": "code",
   "execution_count": 71,
   "metadata": {
    "id": "dK5dDs6sA1YI",
    "outputId": "f44778e9-b596-4a95-fd9c-83bc55eb531f",
    "umich_part_id": "004",
    "umich_partlist_id": "001"
   },
   "outputs": [
    {
     "data": {
      "text/plain": [
       "Afghanistan (AFG)                                 2\n",
       "Algeria (ALG)                                    27\n",
       "Argentina (ARG)                                 130\n",
       "Armenia (ARM)                                    16\n",
       "Australasia (ANZ) [ANZ]                          22\n",
       "                                               ... \n",
       "Yugoslavia (YUG) [YUG]                          171\n",
       "Independent Olympic Participants (IOP) [IOP]      4\n",
       "Zambia (ZAM) [ZAM]                                3\n",
       "Zimbabwe (ZIM) [ZIM]                             18\n",
       "Mixed team (ZZX) [ZZX]                           38\n",
       "Name: Points, Length: 146, dtype: int64"
      ]
     },
     "execution_count": 71,
     "metadata": {},
     "output_type": "execute_result"
    }
   ],
   "source": [
    "def answer_four():\n",
    "    l1=np.array(df[\"01 !.2\"])\n",
    "    l2=np.array(df[\"02 !.2\"])\n",
    "    l3=np.array(df[\"03 !.2\"])\n",
    "    sum=(l1*3)+(l2*2)+(l3*1)\n",
    "    df[\"Points\"]=sum\n",
    "    return df[\"Points\"]\n",
    "Points = answer_four()\n",
    "answer_four()"
   ]
  },
  {
   "cell_type": "code",
   "execution_count": null,
   "metadata": {},
   "outputs": [],
   "source": []
  },
  {
   "cell_type": "markdown",
   "metadata": {
    "id": "YrmKbAOjA1YI"
   },
   "source": [
    "## Part 2\n",
    "For the next set of questions, we will be using census data from the [United States Census Bureau](http://www.census.gov). Counties are political and geographic subdivisions of states in the United States. This dataset contains population data for counties and states in the US from 2010 to 2015. [See this document](https://www2.census.gov/programs-surveys/popest/technical-documentation/file-layouts/2010-2015/co-est2015-alldata.pdf) for a description of the variable names.\n",
    "\n",
    "The census dataset (census.csv) should be loaded as census_df. Answer questions using this as appropriate.\n",
    "\n",
    "### Question 5\n",
    "Which state has the most counties in it? (hint: consider the sumlevel key carefully! You'll need this for future questions too...)\n",
    "\n",
    "*This function should return a single string value.*"
   ]
  },
  {
   "cell_type": "code",
   "execution_count": 13,
   "metadata": {
    "id": "3gyunYWgA1YJ",
    "outputId": "608c5a5c-18c5-4ae7-ef9e-76f00ac53633",
    "umich_question": "prolog-005"
   },
   "outputs": [],
   "source": [
    "census_df = pd.read_csv('census.csv')\n"
   ]
  },
  {
   "cell_type": "code",
   "execution_count": 75,
   "metadata": {},
   "outputs": [
    {
     "name": "stdout",
     "output_type": "stream",
     "text": [
      "<class 'pandas.core.frame.DataFrame'>\n",
      "RangeIndex: 3193 entries, 0 to 3192\n",
      "Data columns (total 100 columns):\n",
      " #   Column                 Non-Null Count  Dtype  \n",
      "---  ------                 --------------  -----  \n",
      " 0   SUMLEV                 3193 non-null   int64  \n",
      " 1   REGION                 3193 non-null   int64  \n",
      " 2   DIVISION               3193 non-null   int64  \n",
      " 3   STATE                  3193 non-null   int64  \n",
      " 4   COUNTY                 3193 non-null   int64  \n",
      " 5   STNAME                 3193 non-null   object \n",
      " 6   CTYNAME                3193 non-null   object \n",
      " 7   CENSUS2010POP          3193 non-null   int64  \n",
      " 8   ESTIMATESBASE2010      3193 non-null   int64  \n",
      " 9   POPESTIMATE2010        3193 non-null   int64  \n",
      " 10  POPESTIMATE2011        3193 non-null   int64  \n",
      " 11  POPESTIMATE2012        3193 non-null   int64  \n",
      " 12  POPESTIMATE2013        3193 non-null   int64  \n",
      " 13  POPESTIMATE2014        3193 non-null   int64  \n",
      " 14  POPESTIMATE2015        3193 non-null   int64  \n",
      " 15  NPOPCHG_2010           3193 non-null   int64  \n",
      " 16  NPOPCHG_2011           3193 non-null   int64  \n",
      " 17  NPOPCHG_2012           3193 non-null   int64  \n",
      " 18  NPOPCHG_2013           3193 non-null   int64  \n",
      " 19  NPOPCHG_2014           3193 non-null   int64  \n",
      " 20  NPOPCHG_2015           3193 non-null   int64  \n",
      " 21  BIRTHS2010             3193 non-null   int64  \n",
      " 22  BIRTHS2011             3193 non-null   int64  \n",
      " 23  BIRTHS2012             3193 non-null   int64  \n",
      " 24  BIRTHS2013             3193 non-null   int64  \n",
      " 25  BIRTHS2014             3193 non-null   int64  \n",
      " 26  BIRTHS2015             3193 non-null   int64  \n",
      " 27  DEATHS2010             3193 non-null   int64  \n",
      " 28  DEATHS2011             3193 non-null   int64  \n",
      " 29  DEATHS2012             3193 non-null   int64  \n",
      " 30  DEATHS2013             3193 non-null   int64  \n",
      " 31  DEATHS2014             3193 non-null   int64  \n",
      " 32  DEATHS2015             3193 non-null   int64  \n",
      " 33  NATURALINC2010         3193 non-null   int64  \n",
      " 34  NATURALINC2011         3193 non-null   int64  \n",
      " 35  NATURALINC2012         3193 non-null   int64  \n",
      " 36  NATURALINC2013         3193 non-null   int64  \n",
      " 37  NATURALINC2014         3193 non-null   int64  \n",
      " 38  NATURALINC2015         3193 non-null   int64  \n",
      " 39  INTERNATIONALMIG2010   3193 non-null   int64  \n",
      " 40  INTERNATIONALMIG2011   3193 non-null   int64  \n",
      " 41  INTERNATIONALMIG2012   3193 non-null   int64  \n",
      " 42  INTERNATIONALMIG2013   3193 non-null   int64  \n",
      " 43  INTERNATIONALMIG2014   3193 non-null   int64  \n",
      " 44  INTERNATIONALMIG2015   3193 non-null   int64  \n",
      " 45  DOMESTICMIG2010        3193 non-null   int64  \n",
      " 46  DOMESTICMIG2011        3193 non-null   int64  \n",
      " 47  DOMESTICMIG2012        3193 non-null   int64  \n",
      " 48  DOMESTICMIG2013        3193 non-null   int64  \n",
      " 49  DOMESTICMIG2014        3193 non-null   int64  \n",
      " 50  DOMESTICMIG2015        3193 non-null   int64  \n",
      " 51  NETMIG2010             3193 non-null   int64  \n",
      " 52  NETMIG2011             3193 non-null   int64  \n",
      " 53  NETMIG2012             3193 non-null   int64  \n",
      " 54  NETMIG2013             3193 non-null   int64  \n",
      " 55  NETMIG2014             3193 non-null   int64  \n",
      " 56  NETMIG2015             3193 non-null   int64  \n",
      " 57  RESIDUAL2010           3193 non-null   int64  \n",
      " 58  RESIDUAL2011           3193 non-null   int64  \n",
      " 59  RESIDUAL2012           3193 non-null   int64  \n",
      " 60  RESIDUAL2013           3193 non-null   int64  \n",
      " 61  RESIDUAL2014           3193 non-null   int64  \n",
      " 62  RESIDUAL2015           3193 non-null   int64  \n",
      " 63  GQESTIMATESBASE2010    3193 non-null   int64  \n",
      " 64  GQESTIMATES2010        3193 non-null   int64  \n",
      " 65  GQESTIMATES2011        3193 non-null   int64  \n",
      " 66  GQESTIMATES2012        3193 non-null   int64  \n",
      " 67  GQESTIMATES2013        3193 non-null   int64  \n",
      " 68  GQESTIMATES2014        3193 non-null   int64  \n",
      " 69  GQESTIMATES2015        3193 non-null   int64  \n",
      " 70  RBIRTH2011             3193 non-null   float64\n",
      " 71  RBIRTH2012             3193 non-null   float64\n",
      " 72  RBIRTH2013             3193 non-null   float64\n",
      " 73  RBIRTH2014             3193 non-null   float64\n",
      " 74  RBIRTH2015             3193 non-null   float64\n",
      " 75  RDEATH2011             3193 non-null   float64\n",
      " 76  RDEATH2012             3193 non-null   float64\n",
      " 77  RDEATH2013             3193 non-null   float64\n",
      " 78  RDEATH2014             3193 non-null   float64\n",
      " 79  RDEATH2015             3193 non-null   float64\n",
      " 80  RNATURALINC2011        3193 non-null   float64\n",
      " 81  RNATURALINC2012        3193 non-null   float64\n",
      " 82  RNATURALINC2013        3193 non-null   float64\n",
      " 83  RNATURALINC2014        3193 non-null   float64\n",
      " 84  RNATURALINC2015        3193 non-null   float64\n",
      " 85  RINTERNATIONALMIG2011  3193 non-null   float64\n",
      " 86  RINTERNATIONALMIG2012  3193 non-null   float64\n",
      " 87  RINTERNATIONALMIG2013  3193 non-null   float64\n",
      " 88  RINTERNATIONALMIG2014  3193 non-null   float64\n",
      " 89  RINTERNATIONALMIG2015  3193 non-null   float64\n",
      " 90  RDOMESTICMIG2011       3193 non-null   float64\n",
      " 91  RDOMESTICMIG2012       3193 non-null   float64\n",
      " 92  RDOMESTICMIG2013       3193 non-null   float64\n",
      " 93  RDOMESTICMIG2014       3193 non-null   float64\n",
      " 94  RDOMESTICMIG2015       3193 non-null   float64\n",
      " 95  RNETMIG2011            3193 non-null   float64\n",
      " 96  RNETMIG2012            3193 non-null   float64\n",
      " 97  RNETMIG2013            3193 non-null   float64\n",
      " 98  RNETMIG2014            3193 non-null   float64\n",
      " 99  RNETMIG2015            3193 non-null   float64\n",
      "dtypes: float64(30), int64(68), object(2)\n",
      "memory usage: 2.4+ MB\n"
     ]
    },
    {
     "data": {
      "text/plain": [
       "Index(['SUMLEV', 'REGION', 'DIVISION', 'STATE', 'COUNTY', 'STNAME', 'CTYNAME',\n",
       "       'CENSUS2010POP', 'ESTIMATESBASE2010', 'POPESTIMATE2010',\n",
       "       'POPESTIMATE2011', 'POPESTIMATE2012', 'POPESTIMATE2013',\n",
       "       'POPESTIMATE2014', 'POPESTIMATE2015', 'NPOPCHG_2010', 'NPOPCHG_2011',\n",
       "       'NPOPCHG_2012', 'NPOPCHG_2013', 'NPOPCHG_2014', 'NPOPCHG_2015',\n",
       "       'BIRTHS2010', 'BIRTHS2011', 'BIRTHS2012', 'BIRTHS2013', 'BIRTHS2014',\n",
       "       'BIRTHS2015', 'DEATHS2010', 'DEATHS2011', 'DEATHS2012', 'DEATHS2013',\n",
       "       'DEATHS2014', 'DEATHS2015', 'NATURALINC2010', 'NATURALINC2011',\n",
       "       'NATURALINC2012', 'NATURALINC2013', 'NATURALINC2014', 'NATURALINC2015',\n",
       "       'INTERNATIONALMIG2010', 'INTERNATIONALMIG2011', 'INTERNATIONALMIG2012',\n",
       "       'INTERNATIONALMIG2013', 'INTERNATIONALMIG2014', 'INTERNATIONALMIG2015',\n",
       "       'DOMESTICMIG2010', 'DOMESTICMIG2011', 'DOMESTICMIG2012',\n",
       "       'DOMESTICMIG2013', 'DOMESTICMIG2014', 'DOMESTICMIG2015', 'NETMIG2010',\n",
       "       'NETMIG2011', 'NETMIG2012', 'NETMIG2013', 'NETMIG2014', 'NETMIG2015',\n",
       "       'RESIDUAL2010', 'RESIDUAL2011', 'RESIDUAL2012', 'RESIDUAL2013',\n",
       "       'RESIDUAL2014', 'RESIDUAL2015', 'GQESTIMATESBASE2010',\n",
       "       'GQESTIMATES2010', 'GQESTIMATES2011', 'GQESTIMATES2012',\n",
       "       'GQESTIMATES2013', 'GQESTIMATES2014', 'GQESTIMATES2015', 'RBIRTH2011',\n",
       "       'RBIRTH2012', 'RBIRTH2013', 'RBIRTH2014', 'RBIRTH2015', 'RDEATH2011',\n",
       "       'RDEATH2012', 'RDEATH2013', 'RDEATH2014', 'RDEATH2015',\n",
       "       'RNATURALINC2011', 'RNATURALINC2012', 'RNATURALINC2013',\n",
       "       'RNATURALINC2014', 'RNATURALINC2015', 'RINTERNATIONALMIG2011',\n",
       "       'RINTERNATIONALMIG2012', 'RINTERNATIONALMIG2013',\n",
       "       'RINTERNATIONALMIG2014', 'RINTERNATIONALMIG2015', 'RDOMESTICMIG2011',\n",
       "       'RDOMESTICMIG2012', 'RDOMESTICMIG2013', 'RDOMESTICMIG2014',\n",
       "       'RDOMESTICMIG2015', 'RNETMIG2011', 'RNETMIG2012', 'RNETMIG2013',\n",
       "       'RNETMIG2014', 'RNETMIG2015'],\n",
       "      dtype='object')"
      ]
     },
     "execution_count": 75,
     "metadata": {},
     "output_type": "execute_result"
    }
   ],
   "source": [
    "census_df.info()\n",
    "census_df.columns"
   ]
  },
  {
   "cell_type": "code",
   "execution_count": 89,
   "metadata": {
    "id": "jWitEAzWA1YJ",
    "outputId": "48dc771a-6ac8-4415-92a4-a3918416fdc2",
    "umich_part_id": "005",
    "umich_partlist_id": "002"
   },
   "outputs": [
    {
     "data": {
      "text/plain": [
       "2999    Virginia\n",
       "Name: STNAME, dtype: object"
      ]
     },
     "execution_count": 89,
     "metadata": {},
     "output_type": "execute_result"
    }
   ],
   "source": [
    "def answer_five():\n",
    "    x=census_df.sort_values(by='COUNTY',ascending=False)\n",
    "    return x.head(1)[\"STNAME\"]\n",
    "answer_five()"
   ]
  },
  {
   "cell_type": "code",
   "execution_count": null,
   "metadata": {},
   "outputs": [],
   "source": []
  },
  {
   "cell_type": "markdown",
   "metadata": {
    "id": "2sDlmldOA1YJ"
   },
   "source": [
    "### Question 6\n",
    "**Only looking at the three most populous counties for each state**, what are the three most populous states (in order of highest population to lowest population)? Use `CENSUS2010POP`.\n",
    "\n",
    "*This function should return a list of string values.*"
   ]
  },
  {
   "cell_type": "code",
   "execution_count": 141,
   "metadata": {
    "id": "2psKOfCMA1YJ",
    "outputId": "d856a8da-714b-4c30-9ee3-7d1a77e76549",
    "umich_part_id": "006",
    "umich_partlist_id": "002"
   },
   "outputs": [
    {
     "data": {
      "text/plain": [
       "['California', 'Tennessee', 'New Mexico']"
      ]
     },
     "execution_count": 141,
     "metadata": {},
     "output_type": "execute_result"
    }
   ],
   "source": [
    "def answer_six():\n",
    "    l=list(census_df[\"STNAME\"].unique())\n",
    "    l1=[]\n",
    "    for i in l:\n",
    "        l2=list(census_df.loc[census_df[\"STNAME\"]==i][\"CENSUS2010POP\"])\n",
    "        li=[]\n",
    "        for j in range(3):\n",
    "            if len(l2)!=0:\n",
    "                m=max(l2)\n",
    "                li.append(m)\n",
    "                l2.remove(m)\n",
    "        s=sum(li)\n",
    "        l1.append(s)\n",
    "    f=[]\n",
    "    for z in range(3):\n",
    "        ind=l1.index(max(l1))\n",
    "        f.append(l[ind])\n",
    "        l1.remove(max(l1))\n",
    "    return f\n",
    "answer_six()"
   ]
  },
  {
   "cell_type": "code",
   "execution_count": null,
   "metadata": {},
   "outputs": [],
   "source": []
  },
  {
   "cell_type": "markdown",
   "metadata": {
    "id": "lqfmB81qA1YK"
   },
   "source": [
    "### Question 7\n",
    "Which county has had the largest absolute change in population within the period 2010-2015? (Hint: population values are stored in columns POPESTIMATE2010 through POPESTIMATE2015, you need to consider all six columns.)\n",
    "\n",
    "e.g. If County Population in the 5 year period is 100, 120, 80, 105, 100, 130, then its largest change in the period would be |130-80| = 50.\n",
    "\n",
    "*This function should return a single string value.*"
   ]
  },
  {
   "cell_type": "code",
   "execution_count": 35,
   "metadata": {
    "id": "KkUjIpKeA1YK",
    "outputId": "68c33ce8-5c02-4723-c2fe-9f189349d91b",
    "umich_part_id": "007",
    "umich_partlist_id": "002"
   },
   "outputs": [
    {
     "data": {
      "text/plain": [
       "'California'"
      ]
     },
     "execution_count": 35,
     "metadata": {},
     "output_type": "execute_result"
    }
   ],
   "source": [
    "def answer_seven():\n",
    "    l6=list(census_df[\"STNAME\"].unique())\n",
    "    li1=[]\n",
    "    for i in l6:\n",
    "        li=[]\n",
    "        li.append(list(census_df.loc[census_df[\"STNAME\"]==i][\"POPESTIMATE2010\"]))\n",
    "        li.append(list(census_df.loc[census_df[\"STNAME\"]==i][\"POPESTIMATE2011\"]))\n",
    "        li.append(list(census_df.loc[census_df[\"STNAME\"]==i][\"POPESTIMATE2012\"]))\n",
    "        li.append(list(census_df.loc[census_df[\"STNAME\"]==i][\"POPESTIMATE2013\"]))\n",
    "        li.append(list(census_df.loc[census_df[\"STNAME\"]==i][\"POPESTIMATE2014\"]))\n",
    "        li.append(list(census_df.loc[census_df[\"STNAME\"]==i][\"POPESTIMATE2015\"]))\n",
    "        ma=-9999999999999999\n",
    "        mi=9999999999999999\n",
    "        for j in li:\n",
    "            for x in j:\n",
    "                if ma<x:\n",
    "                    ma=x\n",
    "                if mi>x:\n",
    "                    mi=x\n",
    "        li1.append(ma-mi)\n",
    "    d=li1.index(max(li1))\n",
    "    f1=l6[d]\n",
    "    return f1\n",
    "answer_seven()"
   ]
  },
  {
   "cell_type": "code",
   "execution_count": null,
   "metadata": {},
   "outputs": [],
   "source": []
  },
  {
   "cell_type": "markdown",
   "metadata": {
    "id": "yAzg5rtTA1YK"
   },
   "source": [
    "### Question 8\n",
    "In this datafile, the United States is broken up into four regions using the \"REGION\" column.\n",
    "\n",
    "Create a query that finds the counties that belong to regions 1 or 2, whose name starts with 'Washington', and whose POPESTIMATE2015 was greater than their POPESTIMATE 2014.\n",
    "\n",
    "*This function should return a 5x2 DataFrame with the columns = ['STNAME', 'CTYNAME'] and the same index ID as the census_df (sorted ascending by index).*"
   ]
  },
  {
   "cell_type": "code",
   "execution_count": null,
   "metadata": {},
   "outputs": [],
   "source": []
  },
  {
   "cell_type": "code",
   "execution_count": 57,
   "metadata": {
    "id": "R7_bZWDaA1YK",
    "outputId": "41b8300f-5115-4e29-f9f7-0a5c2c40098c",
    "umich_part_id": "008",
    "umich_partlist_id": "002"
   },
   "outputs": [
    {
     "data": {
      "text/html": [
       "<div>\n",
       "<style scoped>\n",
       "    .dataframe tbody tr th:only-of-type {\n",
       "        vertical-align: middle;\n",
       "    }\n",
       "\n",
       "    .dataframe tbody tr th {\n",
       "        vertical-align: top;\n",
       "    }\n",
       "\n",
       "    .dataframe thead th {\n",
       "        text-align: right;\n",
       "    }\n",
       "</style>\n",
       "<table border=\"1\" class=\"dataframe\">\n",
       "  <thead>\n",
       "    <tr style=\"text-align: right;\">\n",
       "      <th></th>\n",
       "      <th>STNAME</th>\n",
       "      <th>CTYNAME</th>\n",
       "    </tr>\n",
       "  </thead>\n",
       "  <tbody>\n",
       "    <tr>\n",
       "      <th>896</th>\n",
       "      <td>Iowa</td>\n",
       "      <td>Washington County</td>\n",
       "    </tr>\n",
       "    <tr>\n",
       "      <th>1419</th>\n",
       "      <td>Minnesota</td>\n",
       "      <td>Washington County</td>\n",
       "    </tr>\n",
       "    <tr>\n",
       "      <th>2345</th>\n",
       "      <td>Pennsylvania</td>\n",
       "      <td>Washington County</td>\n",
       "    </tr>\n",
       "    <tr>\n",
       "      <th>2355</th>\n",
       "      <td>Rhode Island</td>\n",
       "      <td>Washington County</td>\n",
       "    </tr>\n",
       "    <tr>\n",
       "      <th>3163</th>\n",
       "      <td>Wisconsin</td>\n",
       "      <td>Washington County</td>\n",
       "    </tr>\n",
       "  </tbody>\n",
       "</table>\n",
       "</div>"
      ],
      "text/plain": [
       "            STNAME            CTYNAME\n",
       "896           Iowa  Washington County\n",
       "1419     Minnesota  Washington County\n",
       "2345  Pennsylvania  Washington County\n",
       "2355  Rhode Island  Washington County\n",
       "3163     Wisconsin  Washington County"
      ]
     },
     "execution_count": 57,
     "metadata": {},
     "output_type": "execute_result"
    }
   ],
   "source": [
    "def answer_eight():\n",
    "    r=census_df.loc[(census_df[\"REGION\"]==1)|(census_df[\"REGION\"]==2)]\n",
    "    r=r.loc[(r[\"CTYNAME\"].str.startswith('Washington')==True)]\n",
    "    r=r.loc[(r[\"POPESTIMATE2015\"]>r[\"POPESTIMATE2014\"])]\n",
    "    return r.drop(columns=['SUMLEV', 'REGION', 'DIVISION', 'STATE', 'COUNTY',\n",
    "       'CENSUS2010POP', 'ESTIMATESBASE2010', 'POPESTIMATE2010',\n",
    "       'POPESTIMATE2011', 'POPESTIMATE2012', 'POPESTIMATE2013',\n",
    "       'POPESTIMATE2014', 'POPESTIMATE2015', 'NPOPCHG_2010', 'NPOPCHG_2011',\n",
    "       'NPOPCHG_2012', 'NPOPCHG_2013', 'NPOPCHG_2014', 'NPOPCHG_2015',\n",
    "       'BIRTHS2010', 'BIRTHS2011', 'BIRTHS2012', 'BIRTHS2013', 'BIRTHS2014',\n",
    "       'BIRTHS2015', 'DEATHS2010', 'DEATHS2011', 'DEATHS2012', 'DEATHS2013',\n",
    "       'DEATHS2014', 'DEATHS2015', 'NATURALINC2010', 'NATURALINC2011',\n",
    "       'NATURALINC2012', 'NATURALINC2013', 'NATURALINC2014', 'NATURALINC2015',\n",
    "       'INTERNATIONALMIG2010', 'INTERNATIONALMIG2011', 'INTERNATIONALMIG2012',\n",
    "       'INTERNATIONALMIG2013', 'INTERNATIONALMIG2014', 'INTERNATIONALMIG2015',\n",
    "       'DOMESTICMIG2010', 'DOMESTICMIG2011', 'DOMESTICMIG2012',\n",
    "       'DOMESTICMIG2013', 'DOMESTICMIG2014', 'DOMESTICMIG2015', 'NETMIG2010',\n",
    "       'NETMIG2011', 'NETMIG2012', 'NETMIG2013', 'NETMIG2014', 'NETMIG2015',\n",
    "       'RESIDUAL2010', 'RESIDUAL2011', 'RESIDUAL2012', 'RESIDUAL2013',\n",
    "       'RESIDUAL2014', 'RESIDUAL2015', 'GQESTIMATESBASE2010',\n",
    "       'GQESTIMATES2010', 'GQESTIMATES2011', 'GQESTIMATES2012',\n",
    "       'GQESTIMATES2013', 'GQESTIMATES2014', 'GQESTIMATES2015', 'RBIRTH2011',\n",
    "       'RBIRTH2012', 'RBIRTH2013', 'RBIRTH2014', 'RBIRTH2015', 'RDEATH2011',\n",
    "       'RDEATH2012', 'RDEATH2013', 'RDEATH2014', 'RDEATH2015',\n",
    "       'RNATURALINC2011', 'RNATURALINC2012', 'RNATURALINC2013',s\n",
    "       'RNATURALINC2014', 'RNATURALINC2015', 'RINTERNATIONALMIG2011',\n",
    "       'RINTERNATIONALMIG2012', 'RINTERNATIONALMIG2013',\n",
    "       'RINTERNATIONALMIG2014', 'RINTERNATIONALMIG2015', 'RDOMESTICMIG2011',\n",
    "       'RDOMESTICMIG2012', 'RDOMESTICMIG2013', 'RDOMESTICMIG2014',\n",
    "       'RDOMESTICMIG2015', 'RNETMIG2011', 'RNETMIG2012', 'RNETMIG2013',\n",
    "       'RNETMIG2014', 'RNETMIG2015'])\n",
    "answer_eight()"
   ]
  },
  {
   "cell_type": "code",
   "execution_count": null,
   "metadata": {},
   "outputs": [],
   "source": []
  },
  {
   "cell_type": "code",
   "execution_count": null,
   "metadata": {
    "id": "SO_iS2mTA1YK"
   },
   "outputs": [],
   "source": []
  }
 ],
 "metadata": {
  "anaconda-cloud": {},
  "colab": {
   "provenance": []
  },
  "coursera": {
   "course_slug": "python-data-analysis",
   "graded_item_id": "tHmgx",
   "launcher_item_id": "Um6Bz",
   "part_id": "OQsnr"
  },
  "kernelspec": {
   "display_name": "Python 3 (ipykernel)",
   "language": "python",
   "name": "python3"
  },
  "language_info": {
   "codemirror_mode": {
    "name": "ipython",
    "version": 3
   },
   "file_extension": ".py",
   "mimetype": "text/x-python",
   "name": "python",
   "nbconvert_exporter": "python",
   "pygments_lexer": "ipython3",
   "version": "3.12.4"
  },
  "umich": {
   "id": "Assignment 2",
   "version": "1.2"
  }
 },
 "nbformat": 4,
 "nbformat_minor": 4
}
